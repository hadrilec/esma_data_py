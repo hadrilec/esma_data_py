{
 "cells": [
  {
   "cell_type": "markdown",
   "metadata": {
    "application/vnd.databricks.v1+cell": {
     "cellMetadata": {},
     "inputWidgets": {},
     "nuid": "7cc91738-9e29-4954-ae62-c5cbafe7fe50",
     "showTitle": false,
     "tableResultSettingsMap": {},
     "title": ""
    }
   },
   "source": [
    "# Flow Chart For Equity Transparency Calculations "
   ]
  },
  {
   "cell_type": "markdown",
   "metadata": {
    "application/vnd.databricks.v1+cell": {
     "cellMetadata": {
      "byteLimit": 2048000,
      "rowLimit": 10000
     },
     "inputWidgets": {},
     "nuid": "7c713ba2-5a21-4ba3-a87d-8a00c11a0fce",
     "showTitle": false,
     "tableResultSettingsMap": {},
     "title": ""
    },
    "vscode": {
     "languageId": "powershell"
    }
   },
   "source": [
    "#### Pip install the package using the link copied from GitHub \n",
    "\n",
    " `Within the venv use the terminal to run the following dependencies`\n",
    "\n",
    "```pip install git+https://github.com/hadrilec/esma_data_py.git```         \n",
    "```pip install pandas, plotly, matplotlib``` "
   ]
  },
  {
   "cell_type": "markdown",
   "metadata": {},
   "source": [
    "#### Import libraries"
   ]
  },
  {
   "cell_type": "code",
   "execution_count": 1,
   "metadata": {
    "application/vnd.databricks.v1+cell": {
     "cellMetadata": {},
     "inputWidgets": {},
     "nuid": "5cc95ec1-0410-42b1-a057-7651cdf7272a",
     "showTitle": false,
     "tableResultSettingsMap": {},
     "title": ""
    }
   },
   "outputs": [],
   "source": [
    "from  esma_data_py import EsmaDataLoader\n",
    "import os\n",
    "from pathlib import Path\n",
    "import plotly.express as px\n",
    "import re\n",
    "import plotly.graph_objects as go\n",
    "from matplotlib.colors import to_rgb\n",
    "import pandas as pd\n",
    "from tqdm import tqdm\n",
    "import plotly.io as pio\n",
    "pio.renderers.default = \"vscode\""
   ]
  },
  {
   "cell_type": "markdown",
   "metadata": {},
   "source": [
    "#### Define color functions "
   ]
  },
  {
   "cell_type": "code",
   "execution_count": 2,
   "metadata": {
    "application/vnd.databricks.v1+cell": {
     "cellMetadata": {},
     "inputWidgets": {},
     "nuid": "c43ad2e4-dd51-4b18-975a-159459f24757",
     "showTitle": false,
     "tableResultSettingsMap": {},
     "title": ""
    }
   },
   "outputs": [],
   "source": [
    "def hex_to_rgba(hex_color, alpha=1.0):\n",
    "    \"\"\"\n",
    "    Convert a hex color code to an RGBA string.\n",
    "\n",
    "    Args:\n",
    "    hex_color (str): A string representing the hex color (e.g., '#RRGGBB').\n",
    "    alpha (float, optional): The alpha (opacity) value for the color (default is 1.0).\n",
    "\n",
    "    Returns:\n",
    "    str: The color in 'rgba(r, g, b, alpha)' format.\n",
    "    \"\"\"\n",
    "    hex_color = hex_color.lstrip('#')  # Remove the '#' if present\n",
    "    if len(hex_color) != 6:\n",
    "        raise ValueError(\"Hex color must be in the format #RRGGBB.\")\n",
    "    r, g, b = tuple(int(hex_color[i:i+2], 16) for i in (0, 2, 4))\n",
    "    return f'rgba({r}, {g}, {b}, {alpha})'\n",
    "\n",
    "\n",
    "def rgb_to_rgba(rgb_color, alpha=1.0):\n",
    "    \"\"\"\n",
    "    Convert an RGB color string to an RGBA string.\n",
    "\n",
    "    Args:\n",
    "    rgb_color (str): A string representing the RGB color (e.g., 'rgb(r, g, b)').\n",
    "    alpha (float, optional): The alpha (opacity) value for the color (default is 1.0).\n",
    "\n",
    "    Returns:\n",
    "    str: The color in 'rgba(r, g, b, alpha)' format.\n",
    "    \"\"\"\n",
    "    # Strip off 'rgb(' and ')'\n",
    "    rgb_color = rgb_color[rgb_color.find('(')+1:rgb_color.find(')')]\n",
    "    r, g, b = map(int, rgb_color.split(','))\n",
    "    return f'rgba({r}, {g}, {b}, {alpha})'\n",
    "\n",
    "\n",
    "def named_to_rgba(named_color, alpha=1.0):\n",
    "    \"\"\"\n",
    "    Convert a named color to an RGBA string.\n",
    "\n",
    "    Args:\n",
    "    named_color (str): The name of the color (e.g., 'red', 'blue').\n",
    "    alpha (float, optional): The alpha (opacity) value for the color (default is 1.0).\n",
    "\n",
    "    Returns:\n",
    "    str: The color in 'rgba(r, g, b, alpha)' format.\n",
    "    \"\"\"\n",
    "    try:\n",
    "        r, g, b = to_rgb(named_color)\n",
    "    except ValueError:\n",
    "        raise ValueError(f\"Invalid named color: {named_color}\")\n",
    "    return f'rgba({int(r*255)}, {int(g*255)}, {int(b*255)}, {alpha})'\n",
    "\n",
    "\n",
    "def convert_to_rgba(color, alpha=1.0):\n",
    "    \"\"\"\n",
    "    Convert a color in different formats (hex, rgb, named) to an RGBA string.\n",
    "\n",
    "    Args:\n",
    "    color (str): A color in either hex ('#RRGGBB'), rgb ('rgb(r, g, b)'), or a named color (e.g., 'red').\n",
    "    alpha (float, optional): The alpha (opacity) value for the color (default is 1.0).\n",
    "\n",
    "    Returns:\n",
    "    str: The color in 'rgba(r, g, b, alpha)' format.\n",
    "    \"\"\"\n",
    "    if color.startswith('#'):\n",
    "        return hex_to_rgba(color, alpha)\n",
    "    elif color.startswith('rgb'):\n",
    "        return rgb_to_rgba(color, alpha)\n",
    "    else:\n",
    "        return named_to_rgba(color, alpha)\n",
    "\n",
    "\n",
    "# Concatenate different qualitative color sets from Plotly\n",
    "colors = px.colors.qualitative.Set1 + \\\n",
    "         px.colors.qualitative.Set2 + \\\n",
    "         px.colors.qualitative.Set3 + \\\n",
    "         px.colors.qualitative.Pastel1 + \\\n",
    "         px.colors.qualitative.Pastel2\n",
    "\n",
    "# Define the opacity\n",
    "opacity = 0.3\n",
    "\n",
    "# Convert each color to RGBA format with the specified opacity\n",
    "rgba_colors = [convert_to_rgba(color, alpha=opacity) for color in colors]  "
   ]
  },
  {
   "cell_type": "markdown",
   "metadata": {},
   "source": [
    "#### Define plot and ds functions"
   ]
  },
  {
   "cell_type": "code",
   "execution_count": 3,
   "metadata": {
    "application/vnd.databricks.v1+cell": {
     "cellMetadata": {},
     "inputWidgets": {},
     "nuid": "9e39956c-f7ac-428c-8754-032a31289ddc",
     "showTitle": false,
     "tableResultSettingsMap": {},
     "title": ""
    }
   },
   "outputs": [],
   "source": [
    "def make_sankey_plot(df, id1, id2, value, title='', title_left=\"<b>Year-1<b>\", title_right=\"<b>Year<b>\", opacity=0.3):\n",
    "    \"\"\"\n",
    "    Creates a Sankey plot to visualize the flow of values between two categorical variables in the dataframe.\n",
    "    \n",
    "    Parameters:\n",
    "    - df (pd.DataFrame): Input dataframe containing the data.\n",
    "    - id1 (str): Column name representing the first category (e.g., previous year).\n",
    "    - id2 (str): Column name representing the second category (e.g., current year).\n",
    "    - value (str): Column name representing the values to be visualized in the Sankey plot.\n",
    "    - title (str, optional): Title for the plot. Defaults to an empty string.\n",
    "    - title_left (str, optional): Title for the left side of the plot (default is \"<b>Year-1<b>\").\n",
    "    - title_right (str, optional): Title for the right side of the plot (default is \"<b>Year<b>\").\n",
    "    - opacity (float, optional): Opacity for the Sankey plot colors (default is 0.3).\n",
    "    \n",
    "    Returns:\n",
    "    - fig (plotly.graph_objects.Figure): The Sankey plot figure.\n",
    "    - data (pd.DataFrame): Dataframe containing the prepared data for the Sankey plot.\n",
    "    \"\"\"\n",
    "    \n",
    "    # Format the id columns to include 'Year_' as prefix\n",
    "    id1, id2 = f\"Year_{id1}\", f\"Year_{id2}\"\n",
    "\n",
    "    # Prepare the dataframe by selecting necessary columns and converting to string type\n",
    "    df = df[[id1, id2, value]].astype(str)\n",
    "\n",
    "    # Create a sorted list of unique categories from both id1 and id2 columns\n",
    "    list_thrs_id1 = list(df[id1].value_counts().index)\n",
    "    list_thrs_id2 = list(df[id2].value_counts().index)\n",
    "    list_thrs = sorted(set(list_thrs_id1 + list_thrs_id2))\n",
    "\n",
    "    # Create label dataframes for id1 and id2 categories\n",
    "    df_lis_label = (pd.DataFrame({id1: list_thrs})\n",
    "                    .sort_values([id1], ascending=True)\n",
    "                    .reset_index(drop=True)\n",
    "                    .assign(id_ = lambda x: x.apply(lambda y: y.name, axis=1))\n",
    "                    .rename(columns = {'id_': id1 + '_id'}))\n",
    "\n",
    "    df_lis_fitrs_label = (pd.DataFrame({id2: list_thrs})\n",
    "                          .sort_values([id2], ascending=True)\n",
    "                          .reset_index(drop=True)\n",
    "                          .assign(id_ = lambda x: x.apply(lambda y: y.name + len(df_lis_label.index), axis=1))\n",
    "                          .rename(columns = {'id_': id2 + '_id'}))\n",
    "    \n",
    "    # Define a list of colors for the nodes\n",
    "    colors = px.colors.qualitative.Set1 + \\\n",
    "             px.colors.qualitative.Set2 + \\\n",
    "             px.colors.qualitative.Set3 + \\\n",
    "             px.colors.qualitative.Pastel1 + \\\n",
    "             px.colors.qualitative.Pastel2\n",
    "    \n",
    "    # Ensure we have enough colors to cover all unique categories\n",
    "    while len(colors) < len(list_thrs):\n",
    "        colors += colors\n",
    "\n",
    "    # Convert colors to RGBA format with specified opacity\n",
    "    rgba_colors = [convert_to_rgba(color, alpha=opacity) for color in colors]\n",
    "        \n",
    "    # Prepare color mapping for each category\n",
    "    df_colors = pd.DataFrame({\"list_id\": list_thrs,\n",
    "                              \"color\": colors[:len(list_thrs)],\n",
    "                              \"color_light\": rgba_colors[:len(list_thrs)]})\n",
    "\n",
    "    # Merge the label dataframes with the color mapping for a final dataframe\n",
    "    df_colors2 = (pd.concat([df_lis_fitrs_label.rename(columns = {id2: 'list_id', id2 + '_id': 'id_'}),\n",
    "                             df_lis_label.rename(columns = {id1: 'list_id', id1 + '_id': 'id_'})])              \n",
    "                     .merge(df_colors, on=\"list_id\", how='left')\n",
    "                     .sort_values(['id_'], ascending=True))\n",
    "    \n",
    "    # Aggregate data and prepare for Sankey plot\n",
    "    data = (df[[id1, id2, value]].groupby([id1, id2], as_index=False)\n",
    "                                 .count()\n",
    "                                 .merge(df_lis_fitrs_label, on=id2, how='left')\n",
    "                                 .merge(df_lis_label, on=id1, how='left')\n",
    "                                 .merge(df_colors.rename(columns = {'list_id': id1}), on=id1, how='left'))\n",
    "    \n",
    "    # Calculate percentages of items in the same and different buckets (id1 == id2 vs id1 != id2)\n",
    "    n_isin_same_bucket = sum(data.query(f\"{id1} == {id2}\")[value]) \n",
    "    n_isin_different_bucket = sum(data[value]) - sum(data.query(f\"{id1} == {id2}\")[value]) \n",
    "    pct_isin_same_bucket = n_isin_same_bucket / sum(data[value]) * 100\n",
    "    pct_isin_different_bucket = n_isin_different_bucket / sum(data[value]) * 100\n",
    "\n",
    "    # Prepare caption to show in the plot\n",
    "    add_caption = f\"<br>Instruments whose indicator matches : <b>{pct_isin_same_bucket:.1f}%<b> ({n_isin_same_bucket:,.0f})\"\n",
    "    add_caption += f\"<br>Instruments whose indicator changes : <b>{pct_isin_different_bucket:.1f}%<b> ({n_isin_different_bucket:,.0f})\"\n",
    "    add_caption += f\"<br>Total number of instruments: {sum(data[value]):,.0f}\"\n",
    "    data['matching_ratio'] = pct_isin_same_bucket\n",
    "    \n",
    "    # Add the caption to the title\n",
    "    title = \"<b>\" + title + \"<b>\"\n",
    "    title += add_caption\n",
    "    \n",
    "    # Prepare data for Sankey plot\n",
    "    source = list(data[id2 + '_id'])\n",
    "    target = list(data[id1 + '_id'])\n",
    "    values = list(data[value])\n",
    "    color = list(data['color_light'])\n",
    "\n",
    "    # Create the Sankey plot using Plotly\n",
    "    fig = go.Figure(data=[go.Sankey(node = dict(pad = 15,\n",
    "                                                thickness = 20,\n",
    "                                                line = dict(color = \"black\", width = 0.5),\n",
    "                                                label = list(df_colors2['list_id']),\n",
    "                                                color = list(df_colors2['color'])),\n",
    "                                    link = dict(source = source, \n",
    "                                                target = target, \n",
    "                                                value = values, \n",
    "                                                label =  values,\n",
    "                                                color =  color ))])\n",
    "\n",
    "    # Update layout of the plot (fonts, size, etc.)\n",
    "    fig = fig.update_layout(font_size=10,  \n",
    "                            width=700, \n",
    "                            height=700, \n",
    "                            plot_bgcolor='white',\n",
    "                            xaxis={'showgrid': False,\n",
    "                                   'zeroline': False,\n",
    "                                   'visible': False},\n",
    "                            yaxis={'showgrid': False,\n",
    "                                   'zeroline': False,\n",
    "                                   'visible': False,},\n",
    "                            title={'text' : title,\n",
    "                                   'y': 0.98})\n",
    "    \n",
    "    # Add annotations for the titles of the left and right sides of the plot\n",
    "    for x_coordinate, column_name in enumerate([title_left, title_right]):\n",
    "        fig = fig.add_annotation(x=x_coordinate,\n",
    "                                 y=1.05,\n",
    "                                 xref=\"x\",\n",
    "                                 yref=\"paper\",\n",
    "                                 text=column_name,\n",
    "                                 showarrow=False,\n",
    "                                 font=dict(size=16),\n",
    "                                 align=\"center\")\n",
    "\n",
    "    return fig, data\n",
    "\n",
    "\n",
    "def create_sankey_datasets(df, year_1, year_2, columns_to_process):\n",
    "    \"\"\"\n",
    "    This function processes a given dataframe to create datasets for Sankey plots and generates the plots themselves \n",
    "    for specific columns representing different attributes across two given years.\n",
    "\n",
    "    Parameters:\n",
    "    df (pd.DataFrame): The input dataframe containing the data to process.\n",
    "    year_1 (str): The first year to filter the data (e.g., '2022').\n",
    "    year_2 (str): The second year to filter the data (e.g., '2023').\n",
    "    columns_to_process (list): A list of column names that should be processed for creating the Sankey plots.\n",
    "\n",
    "    Returns:\n",
    "    sankey_datasets (dict): A dictionary where keys are column names and values are the corresponding processed DataFrames.\n",
    "    sankey_plots (dict): A dictionary where keys are column names and values are the corresponding Sankey plot objects.\n",
    "    \"\"\"\n",
    "\n",
    "    # Split the data into two datasets based on the years provided\n",
    "    df_year1 = df.loc[lambda x: x.FrDt.str.startswith(year_1)]\n",
    "    df_year2 = df.loc[lambda x: x.ToDt.str.startswith(year_2)]\n",
    "    \n",
    "    # Initialize dictionaries to store the resulting datasets and plots\n",
    "    sankey_datasets = {}\n",
    "    sankey_plots = {}\n",
    "\n",
    "    # Iterate over the columns to be processed for the Sankey plots\n",
    "    for column in tqdm(columns_to_process):\n",
    "\n",
    "        # Create subsets of the data for the current column for each year\n",
    "        df_year1_subset = df_year1[['Id', column]].rename(columns={column: f'Year_{year_1}'})\n",
    "        df_year2_subset = df_year2[['Id', column]].rename(columns={column: f'Year_{year_2}'})\n",
    "        \n",
    "        # Merge the two subsets on the 'Id' to align the data from both years\n",
    "        merged_df = pd.merge(df_year1_subset, df_year2_subset, on='Id', how='outer')\n",
    "        \n",
    "        # Drop rows where there is missing data for either year\n",
    "        merged_df = merged_df.dropna(subset=[f'Year_{year_1}', f'Year_{year_2}'])\n",
    "\n",
    "        # Remove duplicate entries to ensure clean data\n",
    "        merged_df = merged_df.drop_duplicates()\n",
    "        \n",
    "        # Store the cleaned and merged DataFrame for the current column\n",
    "        sankey_datasets[column] = merged_df\n",
    "\n",
    "        # Generate the Sankey plot for the merged dataset\n",
    "        sankey_plot, sk = make_sankey_plot(df=merged_df, \n",
    "                                           id1=year_1, \n",
    "                                           id2=year_2, \n",
    "                                           value=\"Id\", \n",
    "                                           title=f\"Sankey Plot for {column}\", \n",
    "                                           title_left=f\"<b>Year {year_1}<b>\", \n",
    "                                           title_right=f\"<b>Year {year_2}<b>\")\n",
    "\n",
    "        # Store the generated Sankey plot in the dictionary\n",
    "        sankey_plots[column] = sankey_plot\n",
    "    \n",
    "    # Return the dictionaries containing the datasets and plots\n",
    "    return sankey_datasets, sankey_plots"
   ]
  },
  {
   "cell_type": "markdown",
   "metadata": {},
   "source": [
    "#### Initialize EsmaDataLoader"
   ]
  },
  {
   "cell_type": "code",
   "execution_count": 4,
   "metadata": {
    "application/vnd.databricks.v1+cell": {
     "cellMetadata": {},
     "inputWidgets": {},
     "nuid": "67c3647d-c017-49e8-955b-b2c4fee9be8e",
     "showTitle": false,
     "tableResultSettingsMap": {},
     "title": ""
    }
   },
   "outputs": [],
   "source": [
    "# Initialize edl with creation dates to, if not set:\n",
    "# creation_date_to = Today\n",
    "# creation_date_from = 2017-01-01\n",
    "\n",
    "edl = EsmaDataLoader(creation_date_from='2024-03-01', creation_date_to='2024-03-03')"
   ]
  },
  {
   "cell_type": "code",
   "execution_count": 5,
   "metadata": {
    "application/vnd.databricks.v1+cell": {
     "cellMetadata": {},
     "inputWidgets": {},
     "nuid": "b16ed10e-b42c-4b94-a1ec-5f93693672c6",
     "showTitle": false,
     "tableResultSettingsMap": {},
     "title": ""
    }
   },
   "outputs": [
    {
     "name": "stderr",
     "output_type": "stream",
     "text": [
      "2025-03-13 14:07:44,218 - EsmaDataLoader - INFO - Requesting fitrs files\n",
      "2025-03-13 14:07:44,261 - EsmaDataLoader - INFO - Request successful, parsing response\n",
      "2025-03-13 14:07:44,285 - EsmaDataLoader - INFO - Downloading 1 files\n",
      "2025-03-13 14:07:44,286 - EsmaDataLoader - INFO - Files will not be saved locally, flag the parameter save_locally=True to save them\n",
      "2025-03-13 14:07:44,287 - EsmaDataLoader - INFO - Downloading and parsing https://fitrs.esma.europa.eu/fitrs/FULECR_20240302_E_1of1.zip\n",
      "Parsing file ... : 100%|██████████| 157464/157464 [00:04<00:00, 34691.11it/s]\n",
      "2025-03-13 14:07:58,908 - EsmaDataLoader - INFO - Process done!\n"
     ]
    }
   ],
   "source": [
    "# Load latest files, if no arguments are specified: \n",
    "\n",
    "# file_type = 'Full'\n",
    "# vcap = False (True if dvcap files to retrieve)\n",
    "# isin = [] \n",
    "# cfi = 'E' \n",
    "# eqt=True # Determines (If filter for only equity instruments)\n",
    "# save_locally = False (If True save the returned df on local disc)\n",
    "# update = False (Parameter used for caching, flag to True when save_locally is True to re download the df as the latest version)\n",
    "\n",
    "df = edl.load_latest_files()"
   ]
  },
  {
   "cell_type": "markdown",
   "metadata": {},
   "source": [
    "#### Custom preprocessing "
   ]
  },
  {
   "cell_type": "code",
   "execution_count": 6,
   "metadata": {
    "application/vnd.databricks.v1+cell": {
     "cellMetadata": {},
     "inputWidgets": {},
     "nuid": "23245e40-a7be-4437-9af4-a707e701bd95",
     "showTitle": false,
     "tableResultSettingsMap": {},
     "title": ""
    }
   },
   "outputs": [],
   "source": [
    "# Custom filtering for this specific process\n",
    "\n",
    "df = df.query(\"Mthdlgy == 'YEAR'\").query(\"FrDt >= '2022-01-01'\")\n",
    "df = df.rename(columns={'Id_2': 'RlvntMkt'})"
   ]
  },
  {
   "cell_type": "markdown",
   "metadata": {},
   "source": [
    "#### Plots creation"
   ]
  },
  {
   "cell_type": "code",
   "execution_count": 7,
   "metadata": {
    "application/vnd.databricks.v1+cell": {
     "cellMetadata": {},
     "inputWidgets": {},
     "nuid": "63a0b882-3608-4377-96f5-f8da7c57e6db",
     "showTitle": false,
     "tableResultSettingsMap": {},
     "title": ""
    }
   },
   "outputs": [
    {
     "name": "stderr",
     "output_type": "stream",
     "text": [
      "100%|██████████| 3/3 [00:00<00:00,  7.81it/s]\n"
     ]
    }
   ],
   "source": [
    "# Create plots \n",
    "\n",
    "sankey_datasets, sankey_plots = create_sankey_datasets(df=df, \n",
    "                                                       year_1=\"2022\", \n",
    "                                                       year_2=\"2023\", \n",
    "                                                       columns_to_process= [\"RlvntMkt\", \"LrgInScale\", \"Lqdty\"])"
   ]
  },
  {
   "cell_type": "code",
   "execution_count": 8,
   "metadata": {},
   "outputs": [
    {
     "name": "stdout",
     "output_type": "stream",
     "text": [
      "Display Sankey plot for: RlvntMkt\n"
     ]
    },
    {
     "data": {
      "application/vnd.plotly.v1+json": {
       "config": {
        "plotlyServerURL": "https://plot.ly"
       },
       "data": [
        {
         "link": {
          "color": [
           "rgba(228, 26, 28, 0.3)",
           "rgba(228, 26, 28, 0.3)",
           "rgba(55, 126, 184, 0.3)",
           "rgba(77, 175, 74, 0.3)",
           "rgba(152, 78, 163, 0.3)",
           "rgba(152, 78, 163, 0.3)",
           "rgba(255, 255, 51, 0.3)",
           "rgba(166, 86, 40, 0.3)",
           "rgba(166, 86, 40, 0.3)",
           "rgba(166, 86, 40, 0.3)",
           "rgba(166, 86, 40, 0.3)",
           "rgba(166, 86, 40, 0.3)",
           "rgba(166, 86, 40, 0.3)",
           "rgba(166, 86, 40, 0.3)",
           "rgba(166, 86, 40, 0.3)",
           "rgba(166, 86, 40, 0.3)",
           "rgba(166, 86, 40, 0.3)",
           "rgba(166, 86, 40, 0.3)",
           "rgba(166, 86, 40, 0.3)",
           "rgba(166, 86, 40, 0.3)",
           "rgba(166, 86, 40, 0.3)",
           "rgba(166, 86, 40, 0.3)",
           "rgba(166, 86, 40, 0.3)",
           "rgba(153, 153, 153, 0.3)",
           "rgba(102, 194, 165, 0.3)",
           "rgba(102, 194, 165, 0.3)",
           "rgba(102, 194, 165, 0.3)",
           "rgba(102, 194, 165, 0.3)",
           "rgba(252, 141, 98, 0.3)",
           "rgba(252, 141, 98, 0.3)",
           "rgba(252, 141, 98, 0.3)",
           "rgba(252, 141, 98, 0.3)",
           "rgba(252, 141, 98, 0.3)",
           "rgba(252, 141, 98, 0.3)",
           "rgba(252, 141, 98, 0.3)",
           "rgba(252, 141, 98, 0.3)",
           "rgba(252, 141, 98, 0.3)",
           "rgba(252, 141, 98, 0.3)",
           "rgba(141, 160, 203, 0.3)",
           "rgba(141, 160, 203, 0.3)",
           "rgba(141, 160, 203, 0.3)",
           "rgba(141, 160, 203, 0.3)",
           "rgba(141, 160, 203, 0.3)",
           "rgba(141, 160, 203, 0.3)",
           "rgba(141, 160, 203, 0.3)",
           "rgba(141, 160, 203, 0.3)",
           "rgba(141, 160, 203, 0.3)",
           "rgba(141, 160, 203, 0.3)",
           "rgba(141, 160, 203, 0.3)",
           "rgba(231, 138, 195, 0.3)",
           "rgba(231, 138, 195, 0.3)",
           "rgba(231, 138, 195, 0.3)",
           "rgba(231, 138, 195, 0.3)",
           "rgba(231, 138, 195, 0.3)",
           "rgba(231, 138, 195, 0.3)",
           "rgba(231, 138, 195, 0.3)",
           "rgba(231, 138, 195, 0.3)",
           "rgba(231, 138, 195, 0.3)",
           "rgba(166, 216, 84, 0.3)",
           "rgba(255, 217, 47, 0.3)",
           "rgba(255, 217, 47, 0.3)",
           "rgba(229, 196, 148, 0.3)",
           "rgba(229, 196, 148, 0.3)",
           "rgba(179, 179, 179, 0.3)",
           "rgba(179, 179, 179, 0.3)",
           "rgba(141, 211, 199, 0.3)",
           "rgba(141, 211, 199, 0.3)",
           "rgba(255, 255, 179, 0.3)",
           "rgba(255, 255, 179, 0.3)",
           "rgba(255, 255, 179, 0.3)",
           "rgba(255, 255, 179, 0.3)",
           "rgba(255, 255, 179, 0.3)",
           "rgba(255, 255, 179, 0.3)",
           "rgba(255, 255, 179, 0.3)",
           "rgba(255, 255, 179, 0.3)",
           "rgba(255, 255, 179, 0.3)",
           "rgba(190, 186, 218, 0.3)",
           "rgba(251, 128, 114, 0.3)",
           "rgba(251, 128, 114, 0.3)",
           "rgba(251, 128, 114, 0.3)",
           "rgba(128, 177, 211, 0.3)",
           "rgba(128, 177, 211, 0.3)",
           "rgba(128, 177, 211, 0.3)",
           "rgba(253, 180, 98, 0.3)",
           "rgba(179, 222, 105, 0.3)",
           "rgba(179, 222, 105, 0.3)",
           "rgba(179, 222, 105, 0.3)",
           "rgba(252, 205, 229, 0.3)",
           "rgba(252, 205, 229, 0.3)",
           "rgba(217, 217, 217, 0.3)",
           "rgba(188, 128, 189, 0.3)",
           "rgba(204, 235, 197, 0.3)",
           "rgba(204, 235, 197, 0.3)",
           "rgba(204, 235, 197, 0.3)",
           "rgba(204, 235, 197, 0.3)",
           "rgba(204, 235, 197, 0.3)",
           "rgba(204, 235, 197, 0.3)",
           "rgba(255, 237, 111, 0.3)",
           "rgba(255, 237, 111, 0.3)",
           "rgba(255, 237, 111, 0.3)",
           "rgba(255, 237, 111, 0.3)",
           "rgba(255, 237, 111, 0.3)",
           "rgba(255, 237, 111, 0.3)",
           "rgba(255, 237, 111, 0.3)",
           "rgba(251, 180, 174, 0.3)",
           "rgba(251, 180, 174, 0.3)",
           "rgba(251, 180, 174, 0.3)",
           "rgba(251, 180, 174, 0.3)",
           "rgba(251, 180, 174, 0.3)",
           "rgba(251, 180, 174, 0.3)",
           "rgba(251, 180, 174, 0.3)",
           "rgba(251, 180, 174, 0.3)",
           "rgba(251, 180, 174, 0.3)",
           "rgba(251, 180, 174, 0.3)",
           "rgba(251, 180, 174, 0.3)",
           "rgba(251, 180, 174, 0.3)",
           "rgba(251, 180, 174, 0.3)",
           "rgba(251, 180, 174, 0.3)",
           "rgba(251, 180, 174, 0.3)",
           "rgba(251, 180, 174, 0.3)",
           "rgba(251, 180, 174, 0.3)",
           "rgba(251, 180, 174, 0.3)",
           "rgba(251, 180, 174, 0.3)",
           "rgba(251, 180, 174, 0.3)",
           "rgba(251, 180, 174, 0.3)",
           "rgba(251, 180, 174, 0.3)",
           "rgba(251, 180, 174, 0.3)",
           "rgba(251, 180, 174, 0.3)",
           "rgba(251, 180, 174, 0.3)",
           "rgba(251, 180, 174, 0.3)",
           "rgba(251, 180, 174, 0.3)",
           "rgba(251, 180, 174, 0.3)",
           "rgba(251, 180, 174, 0.3)",
           "rgba(251, 180, 174, 0.3)",
           "rgba(251, 180, 174, 0.3)",
           "rgba(251, 180, 174, 0.3)",
           "rgba(251, 180, 174, 0.3)",
           "rgba(251, 180, 174, 0.3)",
           "rgba(251, 180, 174, 0.3)",
           "rgba(251, 180, 174, 0.3)",
           "rgba(251, 180, 174, 0.3)",
           "rgba(251, 180, 174, 0.3)",
           "rgba(251, 180, 174, 0.3)",
           "rgba(204, 235, 197, 0.3)",
           "rgba(222, 203, 228, 0.3)",
           "rgba(254, 217, 166, 0.3)",
           "rgba(254, 217, 166, 0.3)",
           "rgba(255, 255, 204, 0.3)",
           "rgba(255, 255, 204, 0.3)",
           "rgba(255, 255, 204, 0.3)",
           "rgba(255, 255, 204, 0.3)",
           "rgba(255, 255, 204, 0.3)",
           "rgba(229, 216, 189, 0.3)",
           "rgba(229, 216, 189, 0.3)",
           "rgba(229, 216, 189, 0.3)",
           "rgba(229, 216, 189, 0.3)",
           "rgba(229, 216, 189, 0.3)",
           "rgba(229, 216, 189, 0.3)",
           "rgba(229, 216, 189, 0.3)",
           "rgba(229, 216, 189, 0.3)",
           "rgba(229, 216, 189, 0.3)",
           "rgba(229, 216, 189, 0.3)",
           "rgba(229, 216, 189, 0.3)",
           "rgba(229, 216, 189, 0.3)",
           "rgba(229, 216, 189, 0.3)",
           "rgba(229, 216, 189, 0.3)",
           "rgba(229, 216, 189, 0.3)",
           "rgba(229, 216, 189, 0.3)",
           "rgba(229, 216, 189, 0.3)",
           "rgba(229, 216, 189, 0.3)",
           "rgba(229, 216, 189, 0.3)",
           "rgba(229, 216, 189, 0.3)",
           "rgba(229, 216, 189, 0.3)",
           "rgba(229, 216, 189, 0.3)",
           "rgba(253, 218, 236, 0.3)",
           "rgba(242, 242, 242, 0.3)",
           "rgba(242, 242, 242, 0.3)",
           "rgba(179, 226, 205, 0.3)",
           "rgba(253, 205, 172, 0.3)",
           "rgba(253, 205, 172, 0.3)",
           "rgba(203, 213, 232, 0.3)",
           "rgba(203, 213, 232, 0.3)",
           "rgba(203, 213, 232, 0.3)",
           "rgba(203, 213, 232, 0.3)",
           "rgba(203, 213, 232, 0.3)",
           "rgba(203, 213, 232, 0.3)",
           "rgba(244, 202, 228, 0.3)",
           "rgba(230, 245, 201, 0.3)",
           "rgba(230, 245, 201, 0.3)",
           "rgba(230, 245, 201, 0.3)",
           "rgba(230, 245, 201, 0.3)",
           "rgba(255, 242, 174, 0.3)",
           "rgba(241, 226, 204, 0.3)",
           "rgba(241, 226, 204, 0.3)",
           "rgba(241, 226, 204, 0.3)",
           "rgba(241, 226, 204, 0.3)",
           "rgba(241, 226, 204, 0.3)",
           "rgba(241, 226, 204, 0.3)",
           "rgba(241, 226, 204, 0.3)",
           "rgba(241, 226, 204, 0.3)",
           "rgba(241, 226, 204, 0.3)",
           "rgba(241, 226, 204, 0.3)",
           "rgba(241, 226, 204, 0.3)",
           "rgba(241, 226, 204, 0.3)",
           "rgba(241, 226, 204, 0.3)",
           "rgba(241, 226, 204, 0.3)",
           "rgba(204, 204, 204, 0.3)",
           "rgba(204, 204, 204, 0.3)",
           "rgba(204, 204, 204, 0.3)",
           "rgba(204, 204, 204, 0.3)",
           "rgba(204, 204, 204, 0.3)",
           "rgba(204, 204, 204, 0.3)",
           "rgba(204, 204, 204, 0.3)",
           "rgba(204, 204, 204, 0.3)",
           "rgba(204, 204, 204, 0.3)",
           "rgba(204, 204, 204, 0.3)",
           "rgba(204, 204, 204, 0.3)",
           "rgba(204, 204, 204, 0.3)",
           "rgba(55, 126, 184, 0.3)",
           "rgba(55, 126, 184, 0.3)",
           "rgba(77, 175, 74, 0.3)",
           "rgba(152, 78, 163, 0.3)",
           "rgba(255, 127, 0, 0.3)",
           "rgba(255, 127, 0, 0.3)",
           "rgba(255, 127, 0, 0.3)",
           "rgba(255, 127, 0, 0.3)",
           "rgba(255, 127, 0, 0.3)",
           "rgba(255, 127, 0, 0.3)",
           "rgba(255, 127, 0, 0.3)",
           "rgba(255, 127, 0, 0.3)",
           "rgba(255, 127, 0, 0.3)",
           "rgba(255, 127, 0, 0.3)",
           "rgba(255, 255, 51, 0.3)",
           "rgba(166, 86, 40, 0.3)",
           "rgba(166, 86, 40, 0.3)",
           "rgba(247, 129, 191, 0.3)",
           "rgba(153, 153, 153, 0.3)",
           "rgba(153, 153, 153, 0.3)",
           "rgba(153, 153, 153, 0.3)",
           "rgba(153, 153, 153, 0.3)",
           "rgba(102, 194, 165, 0.3)",
           "rgba(102, 194, 165, 0.3)",
           "rgba(102, 194, 165, 0.3)",
           "rgba(102, 194, 165, 0.3)",
           "rgba(102, 194, 165, 0.3)",
           "rgba(141, 160, 203, 0.3)",
           "rgba(141, 160, 203, 0.3)",
           "rgba(141, 160, 203, 0.3)",
           "rgba(141, 160, 203, 0.3)",
           "rgba(141, 160, 203, 0.3)",
           "rgba(141, 160, 203, 0.3)",
           "rgba(141, 160, 203, 0.3)",
           "rgba(166, 216, 84, 0.3)",
           "rgba(166, 216, 84, 0.3)",
           "rgba(166, 216, 84, 0.3)",
           "rgba(166, 216, 84, 0.3)",
           "rgba(255, 217, 47, 0.3)",
           "rgba(229, 196, 148, 0.3)",
           "rgba(179, 179, 179, 0.3)",
           "rgba(141, 211, 199, 0.3)",
           "rgba(141, 211, 199, 0.3)",
           "rgba(255, 255, 179, 0.3)",
           "rgba(190, 186, 218, 0.3)",
           "rgba(190, 186, 218, 0.3)",
           "rgba(251, 128, 114, 0.3)",
           "rgba(251, 128, 114, 0.3)",
           "rgba(253, 180, 98, 0.3)",
           "rgba(253, 180, 98, 0.3)",
           "rgba(179, 222, 105, 0.3)",
           "rgba(179, 222, 105, 0.3)",
           "rgba(252, 205, 229, 0.3)",
           "rgba(252, 205, 229, 0.3)",
           "rgba(217, 217, 217, 0.3)",
           "rgba(217, 217, 217, 0.3)",
           "rgba(188, 128, 189, 0.3)",
           "rgba(188, 128, 189, 0.3)",
           "rgba(188, 128, 189, 0.3)",
           "rgba(188, 128, 189, 0.3)",
           "rgba(188, 128, 189, 0.3)",
           "rgba(188, 128, 189, 0.3)",
           "rgba(188, 128, 189, 0.3)",
           "rgba(204, 235, 197, 0.3)",
           "rgba(204, 235, 197, 0.3)",
           "rgba(204, 235, 197, 0.3)",
           "rgba(204, 235, 197, 0.3)",
           "rgba(204, 235, 197, 0.3)",
           "rgba(204, 235, 197, 0.3)",
           "rgba(204, 235, 197, 0.3)",
           "rgba(204, 235, 197, 0.3)",
           "rgba(204, 235, 197, 0.3)",
           "rgba(255, 237, 111, 0.3)",
           "rgba(255, 237, 111, 0.3)",
           "rgba(179, 205, 227, 0.3)",
           "rgba(179, 205, 227, 0.3)",
           "rgba(179, 205, 227, 0.3)",
           "rgba(179, 205, 227, 0.3)",
           "rgba(179, 205, 227, 0.3)",
           "rgba(179, 205, 227, 0.3)",
           "rgba(179, 205, 227, 0.3)",
           "rgba(179, 205, 227, 0.3)",
           "rgba(179, 205, 227, 0.3)",
           "rgba(179, 205, 227, 0.3)",
           "rgba(179, 205, 227, 0.3)",
           "rgba(179, 205, 227, 0.3)",
           "rgba(179, 205, 227, 0.3)",
           "rgba(179, 205, 227, 0.3)",
           "rgba(179, 205, 227, 0.3)",
           "rgba(179, 205, 227, 0.3)",
           "rgba(179, 205, 227, 0.3)",
           "rgba(179, 205, 227, 0.3)",
           "rgba(179, 205, 227, 0.3)",
           "rgba(179, 205, 227, 0.3)",
           "rgba(179, 205, 227, 0.3)",
           "rgba(179, 205, 227, 0.3)",
           "rgba(179, 205, 227, 0.3)",
           "rgba(179, 205, 227, 0.3)",
           "rgba(179, 205, 227, 0.3)",
           "rgba(179, 205, 227, 0.3)",
           "rgba(179, 205, 227, 0.3)",
           "rgba(179, 205, 227, 0.3)",
           "rgba(179, 205, 227, 0.3)",
           "rgba(179, 205, 227, 0.3)",
           "rgba(179, 205, 227, 0.3)",
           "rgba(179, 205, 227, 0.3)",
           "rgba(179, 205, 227, 0.3)",
           "rgba(179, 205, 227, 0.3)",
           "rgba(179, 205, 227, 0.3)",
           "rgba(179, 205, 227, 0.3)",
           "rgba(204, 235, 197, 0.3)",
           "rgba(204, 235, 197, 0.3)",
           "rgba(254, 217, 166, 0.3)",
           "rgba(255, 255, 204, 0.3)",
           "rgba(255, 255, 204, 0.3)",
           "rgba(229, 216, 189, 0.3)",
           "rgba(253, 218, 236, 0.3)",
           "rgba(242, 242, 242, 0.3)",
           "rgba(179, 226, 205, 0.3)",
           "rgba(203, 213, 232, 0.3)",
           "rgba(203, 213, 232, 0.3)",
           "rgba(244, 202, 228, 0.3)",
           "rgba(244, 202, 228, 0.3)",
           "rgba(230, 245, 201, 0.3)",
           "rgba(241, 226, 204, 0.3)",
           "rgba(241, 226, 204, 0.3)",
           "rgba(241, 226, 204, 0.3)",
           "rgba(241, 226, 204, 0.3)",
           "rgba(204, 204, 204, 0.3)",
           "rgba(204, 204, 204, 0.3)",
           "rgba(77, 175, 74, 0.3)",
           "rgba(77, 175, 74, 0.3)",
           "rgba(152, 78, 163, 0.3)",
           "rgba(152, 78, 163, 0.3)",
           "rgba(166, 86, 40, 0.3)",
           "rgba(102, 194, 165, 0.3)",
           "rgba(102, 194, 165, 0.3)",
           "rgba(252, 141, 98, 0.3)",
           "rgba(252, 141, 98, 0.3)",
           "rgba(252, 141, 98, 0.3)",
           "rgba(141, 160, 203, 0.3)",
           "rgba(141, 160, 203, 0.3)",
           "rgba(141, 160, 203, 0.3)",
           "rgba(141, 160, 203, 0.3)",
           "rgba(141, 160, 203, 0.3)",
           "rgba(141, 160, 203, 0.3)",
           "rgba(141, 160, 203, 0.3)",
           "rgba(141, 160, 203, 0.3)",
           "rgba(141, 160, 203, 0.3)",
           "rgba(141, 160, 203, 0.3)",
           "rgba(141, 160, 203, 0.3)",
           "rgba(141, 160, 203, 0.3)",
           "rgba(231, 138, 195, 0.3)",
           "rgba(231, 138, 195, 0.3)",
           "rgba(231, 138, 195, 0.3)",
           "rgba(231, 138, 195, 0.3)",
           "rgba(231, 138, 195, 0.3)",
           "rgba(231, 138, 195, 0.3)",
           "rgba(231, 138, 195, 0.3)",
           "rgba(231, 138, 195, 0.3)",
           "rgba(166, 216, 84, 0.3)",
           "rgba(255, 217, 47, 0.3)",
           "rgba(255, 217, 47, 0.3)",
           "rgba(255, 217, 47, 0.3)",
           "rgba(229, 196, 148, 0.3)",
           "rgba(179, 179, 179, 0.3)",
           "rgba(179, 179, 179, 0.3)",
           "rgba(141, 211, 199, 0.3)",
           "rgba(255, 255, 179, 0.3)",
           "rgba(255, 255, 179, 0.3)",
           "rgba(255, 255, 179, 0.3)",
           "rgba(251, 128, 114, 0.3)",
           "rgba(251, 128, 114, 0.3)",
           "rgba(251, 128, 114, 0.3)",
           "rgba(251, 128, 114, 0.3)",
           "rgba(251, 128, 114, 0.3)",
           "rgba(251, 128, 114, 0.3)",
           "rgba(128, 177, 211, 0.3)",
           "rgba(128, 177, 211, 0.3)",
           "rgba(128, 177, 211, 0.3)",
           "rgba(128, 177, 211, 0.3)",
           "rgba(128, 177, 211, 0.3)",
           "rgba(128, 177, 211, 0.3)",
           "rgba(128, 177, 211, 0.3)",
           "rgba(128, 177, 211, 0.3)",
           "rgba(128, 177, 211, 0.3)",
           "rgba(128, 177, 211, 0.3)",
           "rgba(128, 177, 211, 0.3)",
           "rgba(128, 177, 211, 0.3)",
           "rgba(128, 177, 211, 0.3)",
           "rgba(128, 177, 211, 0.3)",
           "rgba(128, 177, 211, 0.3)",
           "rgba(128, 177, 211, 0.3)",
           "rgba(128, 177, 211, 0.3)",
           "rgba(128, 177, 211, 0.3)",
           "rgba(128, 177, 211, 0.3)",
           "rgba(128, 177, 211, 0.3)",
           "rgba(128, 177, 211, 0.3)",
           "rgba(128, 177, 211, 0.3)",
           "rgba(128, 177, 211, 0.3)",
           "rgba(128, 177, 211, 0.3)",
           "rgba(128, 177, 211, 0.3)",
           "rgba(179, 222, 105, 0.3)",
           "rgba(217, 217, 217, 0.3)",
           "rgba(255, 237, 111, 0.3)",
           "rgba(255, 237, 111, 0.3)",
           "rgba(251, 180, 174, 0.3)",
           "rgba(179, 205, 227, 0.3)",
           "rgba(204, 235, 197, 0.3)"
          ],
          "label": [
           138,
           1,
           4,
           2,
           239,
           1,
           1,
           429,
           8,
           1,
           1,
           1,
           75,
           1,
           8,
           75,
           5,
           2,
           1,
           6,
           1,
           39,
           1,
           4,
           1,
           5,
           1,
           1,
           2,
           49,
           1,
           14,
           2,
           1,
           1,
           2,
           1,
           2,
           13,
           27,
           8,
           1,
           2,
           1,
           2,
           1,
           1,
           1,
           14,
           1,
           1,
           3,
           1,
           4,
           13,
           2,
           1,
           1,
           19,
           105,
           1,
           12,
           1,
           13,
           1,
           2,
           1,
           1,
           185,
           12,
           3,
           27,
           1,
           3,
           80,
           1,
           2,
           175,
           2,
           3,
           51,
           1,
           1,
           13,
           51,
           1,
           1,
           5,
           3,
           3,
           3,
           2,
           5,
           428,
           1,
           3,
           9,
           27,
           1,
           1,
           1,
           1,
           3,
           1,
           41,
           1,
           1,
           10,
           1,
           2587,
           2,
           1,
           1,
           216,
           1,
           127,
           168,
           13,
           1,
           14,
           1,
           7,
           1,
           3,
           1,
           144,
           2,
           3,
           1,
           1,
           1,
           1,
           4,
           6,
           1,
           6,
           1,
           9,
           1,
           299,
           5,
           3,
           6,
           9,
           126,
           3,
           1,
           1,
           2,
           67,
           1,
           1,
           1,
           1,
           2,
           1,
           105,
           88,
           11,
           26,
           1,
           2,
           1,
           48,
           3,
           1,
           2,
           12,
           2,
           2,
           3,
           1,
           1,
           37,
           1,
           3,
           1,
           21,
           4,
           4,
           1,
           1,
           1,
           106,
           1,
           8,
           7,
           1,
           225,
           1,
           1,
           2,
           4,
           1,
           38,
           5,
           1,
           114,
           42,
           1,
           1,
           6,
           1,
           1,
           6,
           1,
           1,
           44,
           7,
           30,
           121,
           2,
           4,
           1,
           21,
           4,
           16,
           2,
           2,
           67,
           8,
           1,
           1,
           1,
           21,
           19,
           1,
           1,
           158,
           10,
           22,
           7,
           2,
           1,
           2,
           94,
           1,
           59,
           1,
           1,
           1,
           1,
           15,
           1,
           1,
           1,
           1,
           3,
           139,
           1,
           1,
           1,
           1,
           1,
           148,
           1,
           5,
           1,
           32,
           1,
           119,
           82,
           42,
           1,
           1,
           270,
           1,
           132,
           1,
           49,
           47,
           1,
           15,
           1,
           1,
           2,
           303,
           2,
           19,
           1,
           2,
           1,
           2,
           1,
           1,
           3,
           68,
           9,
           13,
           2,
           28,
           6,
           14,
           3,
           1,
           1,
           1,
           3,
           2,
           148,
           100,
           45,
           44,
           2,
           17,
           563,
           117,
           33,
           13,
           12,
           5,
           2246,
           98,
           45,
           21,
           83,
           355,
           61,
           9,
           2,
           1,
           1,
           12,
           63,
           2,
           86,
           147,
           109,
           139,
           2,
           22,
           4,
           16,
           37,
           24,
           104,
           24,
           12,
           1,
           1,
           120,
           33,
           2,
           2,
           150,
           3,
           21,
           1,
           369,
           11,
           1,
           12,
           1,
           14,
           1,
           1,
           1,
           204,
           2,
           1,
           5,
           1,
           1,
           3,
           1,
           1,
           545,
           1,
           4,
           2,
           16,
           2,
           1,
           1,
           2,
           1,
           1,
           382,
           13,
           1,
           8,
           2,
           10,
           1,
           13,
           2,
           6,
           165,
           1,
           1,
           5,
           1,
           2,
           1,
           399,
           18,
           4,
           7,
           6,
           345,
           61,
           2,
           66,
           71,
           6,
           1,
           1,
           1,
           1,
           1,
           63,
           1,
           1,
           1,
           2,
           3,
           1,
           1,
           416,
           2,
           20,
           11,
           1,
           393,
           92,
           3,
           61
          ],
          "source": [
           124,
           163,
           125,
           126,
           127,
           159,
           129,
           130,
           134,
           135,
           142,
           152,
           153,
           158,
           159,
           168,
           169,
           174,
           189,
           200,
           227,
           237,
           240,
           132,
           129,
           133,
           152,
           237,
           130,
           134,
           135,
           153,
           159,
           168,
           169,
           174,
           197,
           237,
           135,
           153,
           159,
           166,
           168,
           169,
           200,
           216,
           217,
           230,
           237,
           140,
           165,
           166,
           168,
           181,
           214,
           227,
           228,
           237,
           137,
           138,
           153,
           139,
           183,
           140,
           227,
           142,
           209,
           135,
           142,
           153,
           169,
           174,
           180,
           200,
           209,
           237,
           136,
           144,
           166,
           227,
           145,
           192,
           234,
           146,
           147,
           201,
           227,
           148,
           203,
           149,
           150,
           130,
           136,
           151,
           153,
           227,
           236,
           152,
           158,
           168,
           196,
           199,
           200,
           227,
           130,
           133,
           134,
           135,
           142,
           153,
           154,
           157,
           158,
           159,
           161,
           168,
           169,
           174,
           176,
           180,
           181,
           182,
           183,
           191,
           197,
           200,
           202,
           209,
           210,
           213,
           214,
           216,
           217,
           220,
           221,
           223,
           224,
           227,
           235,
           237,
           240,
           242,
           243,
           155,
           156,
           157,
           197,
           134,
           153,
           158,
           161,
           168,
           127,
           130,
           135,
           142,
           153,
           159,
           168,
           169,
           174,
           182,
           191,
           200,
           202,
           207,
           214,
           216,
           217,
           220,
           223,
           231,
           235,
           237,
           153,
           161,
           240,
           162,
           124,
           163,
           130,
           136,
           153,
           164,
           200,
           226,
           165,
           128,
           166,
           176,
           181,
           167,
           130,
           135,
           153,
           159,
           161,
           168,
           169,
           180,
           197,
           200,
           209,
           223,
           237,
           242,
           135,
           153,
           159,
           168,
           169,
           174,
           180,
           191,
           200,
           220,
           237,
           242,
           151,
           171,
           172,
           173,
           130,
           141,
           142,
           153,
           168,
           169,
           174,
           200,
           227,
           237,
           210,
           168,
           176,
           177,
           168,
           178,
           227,
           244,
           144,
           168,
           179,
           200,
           227,
           130,
           153,
           176,
           181,
           200,
           227,
           228,
           130,
           159,
           183,
           209,
           184,
           185,
           186,
           176,
           187,
           188,
           189,
           227,
           188,
           190,
           136,
           192,
           163,
           193,
           194,
           227,
           195,
           227,
           152,
           158,
           196,
           198,
           200,
           220,
           227,
           136,
           153,
           168,
           174,
           180,
           197,
           200,
           209,
           220,
           198,
           200,
           130,
           131,
           133,
           134,
           135,
           142,
           152,
           153,
           159,
           168,
           169,
           170,
           174,
           180,
           182,
           191,
           196,
           197,
           198,
           200,
           202,
           209,
           216,
           217,
           220,
           221,
           223,
           227,
           228,
           230,
           235,
           237,
           238,
           240,
           242,
           243,
           201,
           227,
           203,
           153,
           204,
           205,
           206,
           207,
           208,
           210,
           244,
           136,
           211,
           212,
           127,
           159,
           214,
           227,
           215,
           227,
           218,
           244,
           151,
           219,
           222,
           225,
           226,
           176,
           192,
           226,
           130,
           142,
           153,
           168,
           169,
           174,
           181,
           200,
           227,
           230,
           237,
           241,
           127,
           159,
           168,
           174,
           176,
           180,
           227,
           228,
           229,
           176,
           230,
           232,
           231,
           230,
           232,
           233,
           151,
           234,
           236,
           128,
           136,
           151,
           174,
           176,
           236,
           130,
           135,
           142,
           152,
           153,
           159,
           167,
           168,
           169,
           174,
           179,
           191,
           195,
           196,
           197,
           200,
           202,
           204,
           209,
           217,
           220,
           221,
           227,
           237,
           240,
           239,
           241,
           153,
           244,
           245,
           246,
           247
          ],
          "target": [
           0,
           0,
           1,
           2,
           3,
           3,
           5,
           6,
           6,
           6,
           6,
           6,
           6,
           6,
           6,
           6,
           6,
           6,
           6,
           6,
           6,
           6,
           6,
           8,
           9,
           9,
           9,
           9,
           10,
           10,
           10,
           10,
           10,
           10,
           10,
           10,
           10,
           10,
           11,
           11,
           11,
           11,
           11,
           11,
           11,
           11,
           11,
           11,
           11,
           12,
           12,
           12,
           12,
           12,
           12,
           12,
           12,
           12,
           13,
           14,
           14,
           15,
           15,
           16,
           16,
           17,
           17,
           18,
           18,
           18,
           18,
           18,
           18,
           18,
           18,
           18,
           19,
           20,
           20,
           20,
           21,
           21,
           21,
           22,
           23,
           23,
           23,
           24,
           24,
           25,
           26,
           27,
           27,
           27,
           27,
           27,
           27,
           28,
           28,
           28,
           28,
           28,
           28,
           28,
           29,
           29,
           29,
           29,
           29,
           29,
           29,
           29,
           29,
           29,
           29,
           29,
           29,
           29,
           29,
           29,
           29,
           29,
           29,
           29,
           29,
           29,
           29,
           29,
           29,
           29,
           29,
           29,
           29,
           29,
           29,
           29,
           29,
           29,
           29,
           29,
           29,
           29,
           29,
           31,
           32,
           33,
           33,
           34,
           34,
           34,
           34,
           34,
           35,
           35,
           35,
           35,
           35,
           35,
           35,
           35,
           35,
           35,
           35,
           35,
           35,
           35,
           35,
           35,
           35,
           35,
           35,
           35,
           35,
           35,
           36,
           37,
           37,
           38,
           39,
           39,
           40,
           40,
           40,
           40,
           40,
           40,
           41,
           42,
           42,
           42,
           42,
           43,
           44,
           44,
           44,
           44,
           44,
           44,
           44,
           44,
           44,
           44,
           44,
           44,
           44,
           44,
           45,
           45,
           45,
           45,
           45,
           45,
           45,
           45,
           45,
           45,
           45,
           45,
           47,
           47,
           48,
           49,
           50,
           50,
           50,
           50,
           50,
           50,
           50,
           50,
           50,
           50,
           51,
           52,
           52,
           53,
           54,
           54,
           54,
           54,
           55,
           55,
           55,
           55,
           55,
           57,
           57,
           57,
           57,
           57,
           57,
           57,
           59,
           59,
           59,
           59,
           60,
           61,
           62,
           63,
           63,
           64,
           65,
           65,
           66,
           66,
           68,
           68,
           69,
           69,
           70,
           70,
           71,
           71,
           72,
           72,
           72,
           72,
           72,
           72,
           72,
           73,
           73,
           73,
           73,
           73,
           73,
           73,
           73,
           73,
           74,
           74,
           76,
           76,
           76,
           76,
           76,
           76,
           76,
           76,
           76,
           76,
           76,
           76,
           76,
           76,
           76,
           76,
           76,
           76,
           76,
           76,
           76,
           76,
           76,
           76,
           76,
           76,
           76,
           76,
           76,
           76,
           76,
           76,
           76,
           76,
           76,
           76,
           77,
           77,
           79,
           80,
           80,
           81,
           82,
           83,
           84,
           86,
           86,
           87,
           87,
           88,
           90,
           90,
           90,
           90,
           91,
           91,
           94,
           94,
           95,
           95,
           98,
           101,
           101,
           102,
           102,
           102,
           103,
           103,
           103,
           103,
           103,
           103,
           103,
           103,
           103,
           103,
           103,
           103,
           104,
           104,
           104,
           104,
           104,
           104,
           104,
           104,
           105,
           106,
           106,
           106,
           107,
           108,
           108,
           109,
           110,
           110,
           110,
           112,
           112,
           112,
           112,
           112,
           112,
           113,
           113,
           113,
           113,
           113,
           113,
           113,
           113,
           113,
           113,
           113,
           113,
           113,
           113,
           113,
           113,
           113,
           113,
           113,
           113,
           113,
           113,
           113,
           113,
           113,
           115,
           117,
           120,
           120,
           121,
           122,
           123
          ],
          "value": [
           138,
           1,
           4,
           2,
           239,
           1,
           1,
           429,
           8,
           1,
           1,
           1,
           75,
           1,
           8,
           75,
           5,
           2,
           1,
           6,
           1,
           39,
           1,
           4,
           1,
           5,
           1,
           1,
           2,
           49,
           1,
           14,
           2,
           1,
           1,
           2,
           1,
           2,
           13,
           27,
           8,
           1,
           2,
           1,
           2,
           1,
           1,
           1,
           14,
           1,
           1,
           3,
           1,
           4,
           13,
           2,
           1,
           1,
           19,
           105,
           1,
           12,
           1,
           13,
           1,
           2,
           1,
           1,
           185,
           12,
           3,
           27,
           1,
           3,
           80,
           1,
           2,
           175,
           2,
           3,
           51,
           1,
           1,
           13,
           51,
           1,
           1,
           5,
           3,
           3,
           3,
           2,
           5,
           428,
           1,
           3,
           9,
           27,
           1,
           1,
           1,
           1,
           3,
           1,
           41,
           1,
           1,
           10,
           1,
           2587,
           2,
           1,
           1,
           216,
           1,
           127,
           168,
           13,
           1,
           14,
           1,
           7,
           1,
           3,
           1,
           144,
           2,
           3,
           1,
           1,
           1,
           1,
           4,
           6,
           1,
           6,
           1,
           9,
           1,
           299,
           5,
           3,
           6,
           9,
           126,
           3,
           1,
           1,
           2,
           67,
           1,
           1,
           1,
           1,
           2,
           1,
           105,
           88,
           11,
           26,
           1,
           2,
           1,
           48,
           3,
           1,
           2,
           12,
           2,
           2,
           3,
           1,
           1,
           37,
           1,
           3,
           1,
           21,
           4,
           4,
           1,
           1,
           1,
           106,
           1,
           8,
           7,
           1,
           225,
           1,
           1,
           2,
           4,
           1,
           38,
           5,
           1,
           114,
           42,
           1,
           1,
           6,
           1,
           1,
           6,
           1,
           1,
           44,
           7,
           30,
           121,
           2,
           4,
           1,
           21,
           4,
           16,
           2,
           2,
           67,
           8,
           1,
           1,
           1,
           21,
           19,
           1,
           1,
           158,
           10,
           22,
           7,
           2,
           1,
           2,
           94,
           1,
           59,
           1,
           1,
           1,
           1,
           15,
           1,
           1,
           1,
           1,
           3,
           139,
           1,
           1,
           1,
           1,
           1,
           148,
           1,
           5,
           1,
           32,
           1,
           119,
           82,
           42,
           1,
           1,
           270,
           1,
           132,
           1,
           49,
           47,
           1,
           15,
           1,
           1,
           2,
           303,
           2,
           19,
           1,
           2,
           1,
           2,
           1,
           1,
           3,
           68,
           9,
           13,
           2,
           28,
           6,
           14,
           3,
           1,
           1,
           1,
           3,
           2,
           148,
           100,
           45,
           44,
           2,
           17,
           563,
           117,
           33,
           13,
           12,
           5,
           2246,
           98,
           45,
           21,
           83,
           355,
           61,
           9,
           2,
           1,
           1,
           12,
           63,
           2,
           86,
           147,
           109,
           139,
           2,
           22,
           4,
           16,
           37,
           24,
           104,
           24,
           12,
           1,
           1,
           120,
           33,
           2,
           2,
           150,
           3,
           21,
           1,
           369,
           11,
           1,
           12,
           1,
           14,
           1,
           1,
           1,
           204,
           2,
           1,
           5,
           1,
           1,
           3,
           1,
           1,
           545,
           1,
           4,
           2,
           16,
           2,
           1,
           1,
           2,
           1,
           1,
           382,
           13,
           1,
           8,
           2,
           10,
           1,
           13,
           2,
           6,
           165,
           1,
           1,
           5,
           1,
           2,
           1,
           399,
           18,
           4,
           7,
           6,
           345,
           61,
           2,
           66,
           71,
           6,
           1,
           1,
           1,
           1,
           1,
           63,
           1,
           1,
           1,
           2,
           3,
           1,
           1,
           416,
           2,
           20,
           11,
           1,
           393,
           92,
           3,
           61
          ]
         },
         "node": {
          "color": [
           "rgb(228,26,28)",
           "rgb(55,126,184)",
           "rgb(77,175,74)",
           "rgb(152,78,163)",
           "rgb(255,127,0)",
           "rgb(255,255,51)",
           "rgb(166,86,40)",
           "rgb(247,129,191)",
           "rgb(153,153,153)",
           "rgb(102,194,165)",
           "rgb(252,141,98)",
           "rgb(141,160,203)",
           "rgb(231,138,195)",
           "rgb(166,216,84)",
           "rgb(255,217,47)",
           "rgb(229,196,148)",
           "rgb(179,179,179)",
           "rgb(141,211,199)",
           "rgb(255,255,179)",
           "rgb(190,186,218)",
           "rgb(251,128,114)",
           "rgb(128,177,211)",
           "rgb(253,180,98)",
           "rgb(179,222,105)",
           "rgb(252,205,229)",
           "rgb(217,217,217)",
           "rgb(188,128,189)",
           "rgb(204,235,197)",
           "rgb(255,237,111)",
           "rgb(251,180,174)",
           "rgb(179,205,227)",
           "rgb(204,235,197)",
           "rgb(222,203,228)",
           "rgb(254,217,166)",
           "rgb(255,255,204)",
           "rgb(229,216,189)",
           "rgb(253,218,236)",
           "rgb(242,242,242)",
           "rgb(179,226,205)",
           "rgb(253,205,172)",
           "rgb(203,213,232)",
           "rgb(244,202,228)",
           "rgb(230,245,201)",
           "rgb(255,242,174)",
           "rgb(241,226,204)",
           "rgb(204,204,204)",
           "rgb(228,26,28)",
           "rgb(55,126,184)",
           "rgb(77,175,74)",
           "rgb(152,78,163)",
           "rgb(255,127,0)",
           "rgb(255,255,51)",
           "rgb(166,86,40)",
           "rgb(247,129,191)",
           "rgb(153,153,153)",
           "rgb(102,194,165)",
           "rgb(252,141,98)",
           "rgb(141,160,203)",
           "rgb(231,138,195)",
           "rgb(166,216,84)",
           "rgb(255,217,47)",
           "rgb(229,196,148)",
           "rgb(179,179,179)",
           "rgb(141,211,199)",
           "rgb(255,255,179)",
           "rgb(190,186,218)",
           "rgb(251,128,114)",
           "rgb(128,177,211)",
           "rgb(253,180,98)",
           "rgb(179,222,105)",
           "rgb(252,205,229)",
           "rgb(217,217,217)",
           "rgb(188,128,189)",
           "rgb(204,235,197)",
           "rgb(255,237,111)",
           "rgb(251,180,174)",
           "rgb(179,205,227)",
           "rgb(204,235,197)",
           "rgb(222,203,228)",
           "rgb(254,217,166)",
           "rgb(255,255,204)",
           "rgb(229,216,189)",
           "rgb(253,218,236)",
           "rgb(242,242,242)",
           "rgb(179,226,205)",
           "rgb(253,205,172)",
           "rgb(203,213,232)",
           "rgb(244,202,228)",
           "rgb(230,245,201)",
           "rgb(255,242,174)",
           "rgb(241,226,204)",
           "rgb(204,204,204)",
           "rgb(228,26,28)",
           "rgb(55,126,184)",
           "rgb(77,175,74)",
           "rgb(152,78,163)",
           "rgb(255,127,0)",
           "rgb(255,255,51)",
           "rgb(166,86,40)",
           "rgb(247,129,191)",
           "rgb(153,153,153)",
           "rgb(102,194,165)",
           "rgb(252,141,98)",
           "rgb(141,160,203)",
           "rgb(231,138,195)",
           "rgb(166,216,84)",
           "rgb(255,217,47)",
           "rgb(229,196,148)",
           "rgb(179,179,179)",
           "rgb(141,211,199)",
           "rgb(255,255,179)",
           "rgb(190,186,218)",
           "rgb(251,128,114)",
           "rgb(128,177,211)",
           "rgb(253,180,98)",
           "rgb(179,222,105)",
           "rgb(252,205,229)",
           "rgb(217,217,217)",
           "rgb(188,128,189)",
           "rgb(204,235,197)",
           "rgb(255,237,111)",
           "rgb(251,180,174)",
           "rgb(179,205,227)",
           "rgb(204,235,197)",
           "rgb(228,26,28)",
           "rgb(55,126,184)",
           "rgb(77,175,74)",
           "rgb(152,78,163)",
           "rgb(255,127,0)",
           "rgb(255,255,51)",
           "rgb(166,86,40)",
           "rgb(247,129,191)",
           "rgb(153,153,153)",
           "rgb(102,194,165)",
           "rgb(252,141,98)",
           "rgb(141,160,203)",
           "rgb(231,138,195)",
           "rgb(166,216,84)",
           "rgb(255,217,47)",
           "rgb(229,196,148)",
           "rgb(179,179,179)",
           "rgb(141,211,199)",
           "rgb(255,255,179)",
           "rgb(190,186,218)",
           "rgb(251,128,114)",
           "rgb(128,177,211)",
           "rgb(253,180,98)",
           "rgb(179,222,105)",
           "rgb(252,205,229)",
           "rgb(217,217,217)",
           "rgb(188,128,189)",
           "rgb(204,235,197)",
           "rgb(255,237,111)",
           "rgb(251,180,174)",
           "rgb(179,205,227)",
           "rgb(204,235,197)",
           "rgb(222,203,228)",
           "rgb(254,217,166)",
           "rgb(255,255,204)",
           "rgb(229,216,189)",
           "rgb(253,218,236)",
           "rgb(242,242,242)",
           "rgb(179,226,205)",
           "rgb(253,205,172)",
           "rgb(203,213,232)",
           "rgb(244,202,228)",
           "rgb(230,245,201)",
           "rgb(255,242,174)",
           "rgb(241,226,204)",
           "rgb(204,204,204)",
           "rgb(228,26,28)",
           "rgb(55,126,184)",
           "rgb(77,175,74)",
           "rgb(152,78,163)",
           "rgb(255,127,0)",
           "rgb(255,255,51)",
           "rgb(166,86,40)",
           "rgb(247,129,191)",
           "rgb(153,153,153)",
           "rgb(102,194,165)",
           "rgb(252,141,98)",
           "rgb(141,160,203)",
           "rgb(231,138,195)",
           "rgb(166,216,84)",
           "rgb(255,217,47)",
           "rgb(229,196,148)",
           "rgb(179,179,179)",
           "rgb(141,211,199)",
           "rgb(255,255,179)",
           "rgb(190,186,218)",
           "rgb(251,128,114)",
           "rgb(128,177,211)",
           "rgb(253,180,98)",
           "rgb(179,222,105)",
           "rgb(252,205,229)",
           "rgb(217,217,217)",
           "rgb(188,128,189)",
           "rgb(204,235,197)",
           "rgb(255,237,111)",
           "rgb(251,180,174)",
           "rgb(179,205,227)",
           "rgb(204,235,197)",
           "rgb(222,203,228)",
           "rgb(254,217,166)",
           "rgb(255,255,204)",
           "rgb(229,216,189)",
           "rgb(253,218,236)",
           "rgb(242,242,242)",
           "rgb(179,226,205)",
           "rgb(253,205,172)",
           "rgb(203,213,232)",
           "rgb(244,202,228)",
           "rgb(230,245,201)",
           "rgb(255,242,174)",
           "rgb(241,226,204)",
           "rgb(204,204,204)",
           "rgb(228,26,28)",
           "rgb(55,126,184)",
           "rgb(77,175,74)",
           "rgb(152,78,163)",
           "rgb(255,127,0)",
           "rgb(255,255,51)",
           "rgb(166,86,40)",
           "rgb(247,129,191)",
           "rgb(153,153,153)",
           "rgb(102,194,165)",
           "rgb(252,141,98)",
           "rgb(141,160,203)",
           "rgb(231,138,195)",
           "rgb(166,216,84)",
           "rgb(255,217,47)",
           "rgb(229,196,148)",
           "rgb(179,179,179)",
           "rgb(141,211,199)",
           "rgb(255,255,179)",
           "rgb(190,186,218)",
           "rgb(251,128,114)",
           "rgb(128,177,211)",
           "rgb(253,180,98)",
           "rgb(179,222,105)",
           "rgb(252,205,229)",
           "rgb(217,217,217)",
           "rgb(188,128,189)",
           "rgb(204,235,197)",
           "rgb(255,237,111)",
           "rgb(251,180,174)",
           "rgb(179,205,227)",
           "rgb(204,235,197)"
          ],
          "label": [
           "ABUL",
           "ALXB",
           "ALXL",
           "ALXP",
           "AQEU",
           "BERA",
           "BERB",
           "BVMF",
           "CPTX",
           "DUSA",
           "DUSB",
           "DUSD",
           "EBLX",
           "EBRA",
           "EMTF",
           "ENAX",
           "ENXL",
           "EQTB",
           "EQTC",
           "ERFQ",
           "EXGM",
           "FNDK",
           "FNEE",
           "FNFI",
           "FNIS",
           "FNLT",
           "FNLV",
           "FNSE",
           "FRAA",
           "FRAB",
           "FRAV",
           "GBUL",
           "GROW",
           "HAMA",
           "HAMB",
           "HAMN",
           "HANA",
           "HANB",
           "HMOD",
           "MBUL",
           "MERK",
           "MLXB",
           "MTAA",
           "MUNA",
           "MUNB",
           "MUND",
           "NEOE",
           "NMTF",
           "NPEX",
           "PROS",
           "TPIR",
           "TQEX",
           "TWEM",
           "VPXB",
           "WBAH",
           "WBDM",
           "XADF",
           "XAMS",
           "XASX",
           "XATH",
           "XBAR",
           "XBIL",
           "XBRA",
           "XBRU",
           "XBSE",
           "XBUD",
           "XCAN",
           "XCNQ",
           "XCSE",
           "XCYS",
           "XECM",
           "XESM",
           "XETA",
           "XETB",
           "XETS",
           "XETU",
           "XGAT",
           "XHEL",
           "XHKG",
           "XICE",
           "XLAT",
           "XLIS",
           "XLIT",
           "XLJM",
           "XLJU",
           "XLON",
           "XLUX",
           "XMAD",
           "XMAL",
           "XMEX",
           "XMLI",
           "XMSM",
           "XNAS",
           "XNCM",
           "XNCO",
           "XNGM",
           "XNGS",
           "XNMS",
           "XNXC",
           "XNYS",
           "XNZE",
           "XOAS",
           "XOSL",
           "XPAC",
           "XPAR",
           "XPRA",
           "XPRM",
           "XRIS",
           "XRMO",
           "XRMZ",
           "XSAT",
           "XSES",
           "XSTO",
           "XSTU",
           "XSWX",
           "XTAL",
           "XTKS",
           "XTND",
           "XTSE",
           "XTSX",
           "XWAR",
           "XZAG",
           "XZAP",
           "ZBUL",
           "ABUL",
           "ALXB",
           "ALXL",
           "ALXP",
           "AQEU",
           "BERA",
           "BERB",
           "BVMF",
           "CPTX",
           "DUSA",
           "DUSB",
           "DUSD",
           "EBLX",
           "EBRA",
           "EMTF",
           "ENAX",
           "ENXL",
           "EQTB",
           "EQTC",
           "ERFQ",
           "EXGM",
           "FNDK",
           "FNEE",
           "FNFI",
           "FNIS",
           "FNLT",
           "FNLV",
           "FNSE",
           "FRAA",
           "FRAB",
           "FRAV",
           "GBUL",
           "GROW",
           "HAMA",
           "HAMB",
           "HAMN",
           "HANA",
           "HANB",
           "HMOD",
           "MBUL",
           "MERK",
           "MLXB",
           "MTAA",
           "MUNA",
           "MUNB",
           "MUND",
           "NEOE",
           "NMTF",
           "NPEX",
           "PROS",
           "TPIR",
           "TQEX",
           "TWEM",
           "VPXB",
           "WBAH",
           "WBDM",
           "XADF",
           "XAMS",
           "XASX",
           "XATH",
           "XBAR",
           "XBIL",
           "XBRA",
           "XBRU",
           "XBSE",
           "XBUD",
           "XCAN",
           "XCNQ",
           "XCSE",
           "XCYS",
           "XECM",
           "XESM",
           "XETA",
           "XETB",
           "XETS",
           "XETU",
           "XGAT",
           "XHEL",
           "XHKG",
           "XICE",
           "XLAT",
           "XLIS",
           "XLIT",
           "XLJM",
           "XLJU",
           "XLON",
           "XLUX",
           "XMAD",
           "XMAL",
           "XMEX",
           "XMLI",
           "XMSM",
           "XNAS",
           "XNCM",
           "XNCO",
           "XNGM",
           "XNGS",
           "XNMS",
           "XNXC",
           "XNYS",
           "XNZE",
           "XOAS",
           "XOSL",
           "XPAC",
           "XPAR",
           "XPRA",
           "XPRM",
           "XRIS",
           "XRMO",
           "XRMZ",
           "XSAT",
           "XSES",
           "XSTO",
           "XSTU",
           "XSWX",
           "XTAL",
           "XTKS",
           "XTND",
           "XTSE",
           "XTSX",
           "XWAR",
           "XZAG",
           "XZAP",
           "ZBUL"
          ],
          "line": {
           "color": "black",
           "width": 0.5
          },
          "pad": 15,
          "thickness": 20
         },
         "type": "sankey"
        }
       ],
       "layout": {
        "annotations": [
         {
          "align": "center",
          "font": {
           "size": 16
          },
          "showarrow": false,
          "text": "<b>Year 2022<b>",
          "x": 0,
          "xref": "x",
          "y": 1.05,
          "yref": "paper"
         },
         {
          "align": "center",
          "font": {
           "size": 16
          },
          "showarrow": false,
          "text": "<b>Year 2023<b>",
          "x": 1,
          "xref": "x",
          "y": 1.05,
          "yref": "paper"
         }
        ],
        "font": {
         "size": 10
        },
        "height": 700,
        "plot_bgcolor": "white",
        "template": {
         "data": {
          "bar": [
           {
            "error_x": {
             "color": "#2a3f5f"
            },
            "error_y": {
             "color": "#2a3f5f"
            },
            "marker": {
             "line": {
              "color": "#E5ECF6",
              "width": 0.5
             },
             "pattern": {
              "fillmode": "overlay",
              "size": 10,
              "solidity": 0.2
             }
            },
            "type": "bar"
           }
          ],
          "barpolar": [
           {
            "marker": {
             "line": {
              "color": "#E5ECF6",
              "width": 0.5
             },
             "pattern": {
              "fillmode": "overlay",
              "size": 10,
              "solidity": 0.2
             }
            },
            "type": "barpolar"
           }
          ],
          "carpet": [
           {
            "aaxis": {
             "endlinecolor": "#2a3f5f",
             "gridcolor": "white",
             "linecolor": "white",
             "minorgridcolor": "white",
             "startlinecolor": "#2a3f5f"
            },
            "baxis": {
             "endlinecolor": "#2a3f5f",
             "gridcolor": "white",
             "linecolor": "white",
             "minorgridcolor": "white",
             "startlinecolor": "#2a3f5f"
            },
            "type": "carpet"
           }
          ],
          "choropleth": [
           {
            "colorbar": {
             "outlinewidth": 0,
             "ticks": ""
            },
            "type": "choropleth"
           }
          ],
          "contour": [
           {
            "colorbar": {
             "outlinewidth": 0,
             "ticks": ""
            },
            "colorscale": [
             [
              0,
              "#0d0887"
             ],
             [
              0.1111111111111111,
              "#46039f"
             ],
             [
              0.2222222222222222,
              "#7201a8"
             ],
             [
              0.3333333333333333,
              "#9c179e"
             ],
             [
              0.4444444444444444,
              "#bd3786"
             ],
             [
              0.5555555555555556,
              "#d8576b"
             ],
             [
              0.6666666666666666,
              "#ed7953"
             ],
             [
              0.7777777777777778,
              "#fb9f3a"
             ],
             [
              0.8888888888888888,
              "#fdca26"
             ],
             [
              1,
              "#f0f921"
             ]
            ],
            "type": "contour"
           }
          ],
          "contourcarpet": [
           {
            "colorbar": {
             "outlinewidth": 0,
             "ticks": ""
            },
            "type": "contourcarpet"
           }
          ],
          "heatmap": [
           {
            "colorbar": {
             "outlinewidth": 0,
             "ticks": ""
            },
            "colorscale": [
             [
              0,
              "#0d0887"
             ],
             [
              0.1111111111111111,
              "#46039f"
             ],
             [
              0.2222222222222222,
              "#7201a8"
             ],
             [
              0.3333333333333333,
              "#9c179e"
             ],
             [
              0.4444444444444444,
              "#bd3786"
             ],
             [
              0.5555555555555556,
              "#d8576b"
             ],
             [
              0.6666666666666666,
              "#ed7953"
             ],
             [
              0.7777777777777778,
              "#fb9f3a"
             ],
             [
              0.8888888888888888,
              "#fdca26"
             ],
             [
              1,
              "#f0f921"
             ]
            ],
            "type": "heatmap"
           }
          ],
          "heatmapgl": [
           {
            "colorbar": {
             "outlinewidth": 0,
             "ticks": ""
            },
            "colorscale": [
             [
              0,
              "#0d0887"
             ],
             [
              0.1111111111111111,
              "#46039f"
             ],
             [
              0.2222222222222222,
              "#7201a8"
             ],
             [
              0.3333333333333333,
              "#9c179e"
             ],
             [
              0.4444444444444444,
              "#bd3786"
             ],
             [
              0.5555555555555556,
              "#d8576b"
             ],
             [
              0.6666666666666666,
              "#ed7953"
             ],
             [
              0.7777777777777778,
              "#fb9f3a"
             ],
             [
              0.8888888888888888,
              "#fdca26"
             ],
             [
              1,
              "#f0f921"
             ]
            ],
            "type": "heatmapgl"
           }
          ],
          "histogram": [
           {
            "marker": {
             "pattern": {
              "fillmode": "overlay",
              "size": 10,
              "solidity": 0.2
             }
            },
            "type": "histogram"
           }
          ],
          "histogram2d": [
           {
            "colorbar": {
             "outlinewidth": 0,
             "ticks": ""
            },
            "colorscale": [
             [
              0,
              "#0d0887"
             ],
             [
              0.1111111111111111,
              "#46039f"
             ],
             [
              0.2222222222222222,
              "#7201a8"
             ],
             [
              0.3333333333333333,
              "#9c179e"
             ],
             [
              0.4444444444444444,
              "#bd3786"
             ],
             [
              0.5555555555555556,
              "#d8576b"
             ],
             [
              0.6666666666666666,
              "#ed7953"
             ],
             [
              0.7777777777777778,
              "#fb9f3a"
             ],
             [
              0.8888888888888888,
              "#fdca26"
             ],
             [
              1,
              "#f0f921"
             ]
            ],
            "type": "histogram2d"
           }
          ],
          "histogram2dcontour": [
           {
            "colorbar": {
             "outlinewidth": 0,
             "ticks": ""
            },
            "colorscale": [
             [
              0,
              "#0d0887"
             ],
             [
              0.1111111111111111,
              "#46039f"
             ],
             [
              0.2222222222222222,
              "#7201a8"
             ],
             [
              0.3333333333333333,
              "#9c179e"
             ],
             [
              0.4444444444444444,
              "#bd3786"
             ],
             [
              0.5555555555555556,
              "#d8576b"
             ],
             [
              0.6666666666666666,
              "#ed7953"
             ],
             [
              0.7777777777777778,
              "#fb9f3a"
             ],
             [
              0.8888888888888888,
              "#fdca26"
             ],
             [
              1,
              "#f0f921"
             ]
            ],
            "type": "histogram2dcontour"
           }
          ],
          "mesh3d": [
           {
            "colorbar": {
             "outlinewidth": 0,
             "ticks": ""
            },
            "type": "mesh3d"
           }
          ],
          "parcoords": [
           {
            "line": {
             "colorbar": {
              "outlinewidth": 0,
              "ticks": ""
             }
            },
            "type": "parcoords"
           }
          ],
          "pie": [
           {
            "automargin": true,
            "type": "pie"
           }
          ],
          "scatter": [
           {
            "fillpattern": {
             "fillmode": "overlay",
             "size": 10,
             "solidity": 0.2
            },
            "type": "scatter"
           }
          ],
          "scatter3d": [
           {
            "line": {
             "colorbar": {
              "outlinewidth": 0,
              "ticks": ""
             }
            },
            "marker": {
             "colorbar": {
              "outlinewidth": 0,
              "ticks": ""
             }
            },
            "type": "scatter3d"
           }
          ],
          "scattercarpet": [
           {
            "marker": {
             "colorbar": {
              "outlinewidth": 0,
              "ticks": ""
             }
            },
            "type": "scattercarpet"
           }
          ],
          "scattergeo": [
           {
            "marker": {
             "colorbar": {
              "outlinewidth": 0,
              "ticks": ""
             }
            },
            "type": "scattergeo"
           }
          ],
          "scattergl": [
           {
            "marker": {
             "colorbar": {
              "outlinewidth": 0,
              "ticks": ""
             }
            },
            "type": "scattergl"
           }
          ],
          "scattermapbox": [
           {
            "marker": {
             "colorbar": {
              "outlinewidth": 0,
              "ticks": ""
             }
            },
            "type": "scattermapbox"
           }
          ],
          "scatterpolar": [
           {
            "marker": {
             "colorbar": {
              "outlinewidth": 0,
              "ticks": ""
             }
            },
            "type": "scatterpolar"
           }
          ],
          "scatterpolargl": [
           {
            "marker": {
             "colorbar": {
              "outlinewidth": 0,
              "ticks": ""
             }
            },
            "type": "scatterpolargl"
           }
          ],
          "scatterternary": [
           {
            "marker": {
             "colorbar": {
              "outlinewidth": 0,
              "ticks": ""
             }
            },
            "type": "scatterternary"
           }
          ],
          "surface": [
           {
            "colorbar": {
             "outlinewidth": 0,
             "ticks": ""
            },
            "colorscale": [
             [
              0,
              "#0d0887"
             ],
             [
              0.1111111111111111,
              "#46039f"
             ],
             [
              0.2222222222222222,
              "#7201a8"
             ],
             [
              0.3333333333333333,
              "#9c179e"
             ],
             [
              0.4444444444444444,
              "#bd3786"
             ],
             [
              0.5555555555555556,
              "#d8576b"
             ],
             [
              0.6666666666666666,
              "#ed7953"
             ],
             [
              0.7777777777777778,
              "#fb9f3a"
             ],
             [
              0.8888888888888888,
              "#fdca26"
             ],
             [
              1,
              "#f0f921"
             ]
            ],
            "type": "surface"
           }
          ],
          "table": [
           {
            "cells": {
             "fill": {
              "color": "#EBF0F8"
             },
             "line": {
              "color": "white"
             }
            },
            "header": {
             "fill": {
              "color": "#C8D4E3"
             },
             "line": {
              "color": "white"
             }
            },
            "type": "table"
           }
          ]
         },
         "layout": {
          "annotationdefaults": {
           "arrowcolor": "#2a3f5f",
           "arrowhead": 0,
           "arrowwidth": 1
          },
          "autotypenumbers": "strict",
          "coloraxis": {
           "colorbar": {
            "outlinewidth": 0,
            "ticks": ""
           }
          },
          "colorscale": {
           "diverging": [
            [
             0,
             "#8e0152"
            ],
            [
             0.1,
             "#c51b7d"
            ],
            [
             0.2,
             "#de77ae"
            ],
            [
             0.3,
             "#f1b6da"
            ],
            [
             0.4,
             "#fde0ef"
            ],
            [
             0.5,
             "#f7f7f7"
            ],
            [
             0.6,
             "#e6f5d0"
            ],
            [
             0.7,
             "#b8e186"
            ],
            [
             0.8,
             "#7fbc41"
            ],
            [
             0.9,
             "#4d9221"
            ],
            [
             1,
             "#276419"
            ]
           ],
           "sequential": [
            [
             0,
             "#0d0887"
            ],
            [
             0.1111111111111111,
             "#46039f"
            ],
            [
             0.2222222222222222,
             "#7201a8"
            ],
            [
             0.3333333333333333,
             "#9c179e"
            ],
            [
             0.4444444444444444,
             "#bd3786"
            ],
            [
             0.5555555555555556,
             "#d8576b"
            ],
            [
             0.6666666666666666,
             "#ed7953"
            ],
            [
             0.7777777777777778,
             "#fb9f3a"
            ],
            [
             0.8888888888888888,
             "#fdca26"
            ],
            [
             1,
             "#f0f921"
            ]
           ],
           "sequentialminus": [
            [
             0,
             "#0d0887"
            ],
            [
             0.1111111111111111,
             "#46039f"
            ],
            [
             0.2222222222222222,
             "#7201a8"
            ],
            [
             0.3333333333333333,
             "#9c179e"
            ],
            [
             0.4444444444444444,
             "#bd3786"
            ],
            [
             0.5555555555555556,
             "#d8576b"
            ],
            [
             0.6666666666666666,
             "#ed7953"
            ],
            [
             0.7777777777777778,
             "#fb9f3a"
            ],
            [
             0.8888888888888888,
             "#fdca26"
            ],
            [
             1,
             "#f0f921"
            ]
           ]
          },
          "colorway": [
           "#636efa",
           "#EF553B",
           "#00cc96",
           "#ab63fa",
           "#FFA15A",
           "#19d3f3",
           "#FF6692",
           "#B6E880",
           "#FF97FF",
           "#FECB52"
          ],
          "font": {
           "color": "#2a3f5f"
          },
          "geo": {
           "bgcolor": "white",
           "lakecolor": "white",
           "landcolor": "#E5ECF6",
           "showlakes": true,
           "showland": true,
           "subunitcolor": "white"
          },
          "hoverlabel": {
           "align": "left"
          },
          "hovermode": "closest",
          "mapbox": {
           "style": "light"
          },
          "paper_bgcolor": "white",
          "plot_bgcolor": "#E5ECF6",
          "polar": {
           "angularaxis": {
            "gridcolor": "white",
            "linecolor": "white",
            "ticks": ""
           },
           "bgcolor": "#E5ECF6",
           "radialaxis": {
            "gridcolor": "white",
            "linecolor": "white",
            "ticks": ""
           }
          },
          "scene": {
           "xaxis": {
            "backgroundcolor": "#E5ECF6",
            "gridcolor": "white",
            "gridwidth": 2,
            "linecolor": "white",
            "showbackground": true,
            "ticks": "",
            "zerolinecolor": "white"
           },
           "yaxis": {
            "backgroundcolor": "#E5ECF6",
            "gridcolor": "white",
            "gridwidth": 2,
            "linecolor": "white",
            "showbackground": true,
            "ticks": "",
            "zerolinecolor": "white"
           },
           "zaxis": {
            "backgroundcolor": "#E5ECF6",
            "gridcolor": "white",
            "gridwidth": 2,
            "linecolor": "white",
            "showbackground": true,
            "ticks": "",
            "zerolinecolor": "white"
           }
          },
          "shapedefaults": {
           "line": {
            "color": "#2a3f5f"
           }
          },
          "ternary": {
           "aaxis": {
            "gridcolor": "white",
            "linecolor": "white",
            "ticks": ""
           },
           "baxis": {
            "gridcolor": "white",
            "linecolor": "white",
            "ticks": ""
           },
           "bgcolor": "#E5ECF6",
           "caxis": {
            "gridcolor": "white",
            "linecolor": "white",
            "ticks": ""
           }
          },
          "title": {
           "x": 0.05
          },
          "xaxis": {
           "automargin": true,
           "gridcolor": "white",
           "linecolor": "white",
           "ticks": "",
           "title": {
            "standoff": 15
           },
           "zerolinecolor": "white",
           "zerolinewidth": 2
          },
          "yaxis": {
           "automargin": true,
           "gridcolor": "white",
           "linecolor": "white",
           "ticks": "",
           "title": {
            "standoff": 15
           },
           "zerolinecolor": "white",
           "zerolinewidth": 2
          }
         }
        },
        "title": {
         "text": "<b>Sankey Plot for RlvntMkt<b><br>Instruments whose indicator matches : <b>71.6%<b> (13,422)<br>Instruments whose indicator changes : <b>28.4%<b> (5,314)<br>Total number of instruments: 18,736",
         "y": 0.98
        },
        "width": 700,
        "xaxis": {
         "showgrid": false,
         "visible": false,
         "zeroline": false
        },
        "yaxis": {
         "showgrid": false,
         "visible": false,
         "zeroline": false
        }
       }
      }
     },
     "metadata": {},
     "output_type": "display_data"
    },
    {
     "name": "stdout",
     "output_type": "stream",
     "text": [
      "Display Sankey plot for: LrgInScale\n"
     ]
    },
    {
     "data": {
      "application/vnd.plotly.v1+json": {
       "config": {
        "plotlyServerURL": "https://plot.ly"
       },
       "data": [
        {
         "link": {
          "color": [
           "rgba(228, 26, 28, 0.3)",
           "rgba(228, 26, 28, 0.3)",
           "rgba(228, 26, 28, 0.3)",
           "rgba(228, 26, 28, 0.3)",
           "rgba(228, 26, 28, 0.3)",
           "rgba(228, 26, 28, 0.3)",
           "rgba(55, 126, 184, 0.3)",
           "rgba(55, 126, 184, 0.3)",
           "rgba(55, 126, 184, 0.3)",
           "rgba(55, 126, 184, 0.3)",
           "rgba(55, 126, 184, 0.3)",
           "rgba(55, 126, 184, 0.3)",
           "rgba(77, 175, 74, 0.3)",
           "rgba(77, 175, 74, 0.3)",
           "rgba(77, 175, 74, 0.3)",
           "rgba(77, 175, 74, 0.3)",
           "rgba(77, 175, 74, 0.3)",
           "rgba(77, 175, 74, 0.3)",
           "rgba(77, 175, 74, 0.3)",
           "rgba(152, 78, 163, 0.3)",
           "rgba(152, 78, 163, 0.3)",
           "rgba(152, 78, 163, 0.3)",
           "rgba(152, 78, 163, 0.3)",
           "rgba(152, 78, 163, 0.3)",
           "rgba(255, 127, 0, 0.3)",
           "rgba(255, 127, 0, 0.3)",
           "rgba(255, 127, 0, 0.3)",
           "rgba(255, 127, 0, 0.3)",
           "rgba(255, 127, 0, 0.3)",
           "rgba(255, 127, 0, 0.3)",
           "rgba(255, 127, 0, 0.3)",
           "rgba(255, 127, 0, 0.3)",
           "rgba(255, 255, 51, 0.3)",
           "rgba(255, 255, 51, 0.3)",
           "rgba(255, 255, 51, 0.3)",
           "rgba(255, 255, 51, 0.3)",
           "rgba(255, 255, 51, 0.3)",
           "rgba(166, 86, 40, 0.3)",
           "rgba(166, 86, 40, 0.3)",
           "rgba(166, 86, 40, 0.3)",
           "rgba(166, 86, 40, 0.3)",
           "rgba(166, 86, 40, 0.3)",
           "rgba(166, 86, 40, 0.3)",
           "rgba(247, 129, 191, 0.3)",
           "rgba(247, 129, 191, 0.3)",
           "rgba(247, 129, 191, 0.3)",
           "rgba(247, 129, 191, 0.3)",
           "rgba(247, 129, 191, 0.3)",
           "rgba(247, 129, 191, 0.3)",
           "rgba(153, 153, 153, 0.3)",
           "rgba(153, 153, 153, 0.3)",
           "rgba(153, 153, 153, 0.3)",
           "rgba(153, 153, 153, 0.3)"
          ],
          "label": [
           199,
           36,
           155,
           18,
           4,
           206,
           9,
           12439,
           5,
           336,
           3,
           238,
           164,
           44,
           673,
           5,
           103,
           78,
           1,
           18,
           546,
           4,
           320,
           236,
           4,
           28,
           119,
           391,
           22,
           4,
           4,
           2,
           1,
           3,
           42,
           94,
           14,
           5,
           1,
           2,
           26,
           70,
           6,
           204,
           337,
           88,
           365,
           1,
           1027,
           1,
           2,
           21,
           98
          ],
          "source": [
           9,
           10,
           11,
           12,
           13,
           16,
           9,
           10,
           11,
           12,
           13,
           16,
           9,
           10,
           11,
           12,
           13,
           16,
           17,
           9,
           10,
           11,
           12,
           16,
           9,
           10,
           11,
           13,
           14,
           15,
           16,
           17,
           9,
           10,
           13,
           14,
           15,
           10,
           11,
           13,
           14,
           15,
           17,
           9,
           10,
           11,
           12,
           13,
           16,
           10,
           14,
           15,
           17
          ],
          "target": [
           0,
           0,
           0,
           0,
           0,
           0,
           1,
           1,
           1,
           1,
           1,
           1,
           2,
           2,
           2,
           2,
           2,
           2,
           2,
           3,
           3,
           3,
           3,
           3,
           4,
           4,
           4,
           4,
           4,
           4,
           4,
           4,
           5,
           5,
           5,
           5,
           5,
           6,
           6,
           6,
           6,
           6,
           6,
           7,
           7,
           7,
           7,
           7,
           7,
           8,
           8,
           8,
           8
          ],
          "value": [
           199,
           36,
           155,
           18,
           4,
           206,
           9,
           12439,
           5,
           336,
           3,
           238,
           164,
           44,
           673,
           5,
           103,
           78,
           1,
           18,
           546,
           4,
           320,
           236,
           4,
           28,
           119,
           391,
           22,
           4,
           4,
           2,
           1,
           3,
           42,
           94,
           14,
           5,
           1,
           2,
           26,
           70,
           6,
           204,
           337,
           88,
           365,
           1,
           1027,
           1,
           2,
           21,
           98
          ]
         },
         "node": {
          "color": [
           "rgb(228,26,28)",
           "rgb(55,126,184)",
           "rgb(77,175,74)",
           "rgb(152,78,163)",
           "rgb(255,127,0)",
           "rgb(255,255,51)",
           "rgb(166,86,40)",
           "rgb(247,129,191)",
           "rgb(153,153,153)",
           "rgb(228,26,28)",
           "rgb(55,126,184)",
           "rgb(77,175,74)",
           "rgb(152,78,163)",
           "rgb(255,127,0)",
           "rgb(255,255,51)",
           "rgb(166,86,40)",
           "rgb(247,129,191)",
           "rgb(153,153,153)"
          ],
          "label": [
           "100000",
           "15000",
           "200000",
           "30000",
           "300000",
           "400000",
           "500000",
           "60000",
           "650000",
           "100000",
           "15000",
           "200000",
           "30000",
           "300000",
           "400000",
           "500000",
           "60000",
           "650000"
          ],
          "line": {
           "color": "black",
           "width": 0.5
          },
          "pad": 15,
          "thickness": 20
         },
         "type": "sankey"
        }
       ],
       "layout": {
        "annotations": [
         {
          "align": "center",
          "font": {
           "size": 16
          },
          "showarrow": false,
          "text": "<b>Year 2022<b>",
          "x": 0,
          "xref": "x",
          "y": 1.05,
          "yref": "paper"
         },
         {
          "align": "center",
          "font": {
           "size": 16
          },
          "showarrow": false,
          "text": "<b>Year 2023<b>",
          "x": 1,
          "xref": "x",
          "y": 1.05,
          "yref": "paper"
         }
        ],
        "font": {
         "size": 10
        },
        "height": 700,
        "plot_bgcolor": "white",
        "template": {
         "data": {
          "bar": [
           {
            "error_x": {
             "color": "#2a3f5f"
            },
            "error_y": {
             "color": "#2a3f5f"
            },
            "marker": {
             "line": {
              "color": "#E5ECF6",
              "width": 0.5
             },
             "pattern": {
              "fillmode": "overlay",
              "size": 10,
              "solidity": 0.2
             }
            },
            "type": "bar"
           }
          ],
          "barpolar": [
           {
            "marker": {
             "line": {
              "color": "#E5ECF6",
              "width": 0.5
             },
             "pattern": {
              "fillmode": "overlay",
              "size": 10,
              "solidity": 0.2
             }
            },
            "type": "barpolar"
           }
          ],
          "carpet": [
           {
            "aaxis": {
             "endlinecolor": "#2a3f5f",
             "gridcolor": "white",
             "linecolor": "white",
             "minorgridcolor": "white",
             "startlinecolor": "#2a3f5f"
            },
            "baxis": {
             "endlinecolor": "#2a3f5f",
             "gridcolor": "white",
             "linecolor": "white",
             "minorgridcolor": "white",
             "startlinecolor": "#2a3f5f"
            },
            "type": "carpet"
           }
          ],
          "choropleth": [
           {
            "colorbar": {
             "outlinewidth": 0,
             "ticks": ""
            },
            "type": "choropleth"
           }
          ],
          "contour": [
           {
            "colorbar": {
             "outlinewidth": 0,
             "ticks": ""
            },
            "colorscale": [
             [
              0,
              "#0d0887"
             ],
             [
              0.1111111111111111,
              "#46039f"
             ],
             [
              0.2222222222222222,
              "#7201a8"
             ],
             [
              0.3333333333333333,
              "#9c179e"
             ],
             [
              0.4444444444444444,
              "#bd3786"
             ],
             [
              0.5555555555555556,
              "#d8576b"
             ],
             [
              0.6666666666666666,
              "#ed7953"
             ],
             [
              0.7777777777777778,
              "#fb9f3a"
             ],
             [
              0.8888888888888888,
              "#fdca26"
             ],
             [
              1,
              "#f0f921"
             ]
            ],
            "type": "contour"
           }
          ],
          "contourcarpet": [
           {
            "colorbar": {
             "outlinewidth": 0,
             "ticks": ""
            },
            "type": "contourcarpet"
           }
          ],
          "heatmap": [
           {
            "colorbar": {
             "outlinewidth": 0,
             "ticks": ""
            },
            "colorscale": [
             [
              0,
              "#0d0887"
             ],
             [
              0.1111111111111111,
              "#46039f"
             ],
             [
              0.2222222222222222,
              "#7201a8"
             ],
             [
              0.3333333333333333,
              "#9c179e"
             ],
             [
              0.4444444444444444,
              "#bd3786"
             ],
             [
              0.5555555555555556,
              "#d8576b"
             ],
             [
              0.6666666666666666,
              "#ed7953"
             ],
             [
              0.7777777777777778,
              "#fb9f3a"
             ],
             [
              0.8888888888888888,
              "#fdca26"
             ],
             [
              1,
              "#f0f921"
             ]
            ],
            "type": "heatmap"
           }
          ],
          "heatmapgl": [
           {
            "colorbar": {
             "outlinewidth": 0,
             "ticks": ""
            },
            "colorscale": [
             [
              0,
              "#0d0887"
             ],
             [
              0.1111111111111111,
              "#46039f"
             ],
             [
              0.2222222222222222,
              "#7201a8"
             ],
             [
              0.3333333333333333,
              "#9c179e"
             ],
             [
              0.4444444444444444,
              "#bd3786"
             ],
             [
              0.5555555555555556,
              "#d8576b"
             ],
             [
              0.6666666666666666,
              "#ed7953"
             ],
             [
              0.7777777777777778,
              "#fb9f3a"
             ],
             [
              0.8888888888888888,
              "#fdca26"
             ],
             [
              1,
              "#f0f921"
             ]
            ],
            "type": "heatmapgl"
           }
          ],
          "histogram": [
           {
            "marker": {
             "pattern": {
              "fillmode": "overlay",
              "size": 10,
              "solidity": 0.2
             }
            },
            "type": "histogram"
           }
          ],
          "histogram2d": [
           {
            "colorbar": {
             "outlinewidth": 0,
             "ticks": ""
            },
            "colorscale": [
             [
              0,
              "#0d0887"
             ],
             [
              0.1111111111111111,
              "#46039f"
             ],
             [
              0.2222222222222222,
              "#7201a8"
             ],
             [
              0.3333333333333333,
              "#9c179e"
             ],
             [
              0.4444444444444444,
              "#bd3786"
             ],
             [
              0.5555555555555556,
              "#d8576b"
             ],
             [
              0.6666666666666666,
              "#ed7953"
             ],
             [
              0.7777777777777778,
              "#fb9f3a"
             ],
             [
              0.8888888888888888,
              "#fdca26"
             ],
             [
              1,
              "#f0f921"
             ]
            ],
            "type": "histogram2d"
           }
          ],
          "histogram2dcontour": [
           {
            "colorbar": {
             "outlinewidth": 0,
             "ticks": ""
            },
            "colorscale": [
             [
              0,
              "#0d0887"
             ],
             [
              0.1111111111111111,
              "#46039f"
             ],
             [
              0.2222222222222222,
              "#7201a8"
             ],
             [
              0.3333333333333333,
              "#9c179e"
             ],
             [
              0.4444444444444444,
              "#bd3786"
             ],
             [
              0.5555555555555556,
              "#d8576b"
             ],
             [
              0.6666666666666666,
              "#ed7953"
             ],
             [
              0.7777777777777778,
              "#fb9f3a"
             ],
             [
              0.8888888888888888,
              "#fdca26"
             ],
             [
              1,
              "#f0f921"
             ]
            ],
            "type": "histogram2dcontour"
           }
          ],
          "mesh3d": [
           {
            "colorbar": {
             "outlinewidth": 0,
             "ticks": ""
            },
            "type": "mesh3d"
           }
          ],
          "parcoords": [
           {
            "line": {
             "colorbar": {
              "outlinewidth": 0,
              "ticks": ""
             }
            },
            "type": "parcoords"
           }
          ],
          "pie": [
           {
            "automargin": true,
            "type": "pie"
           }
          ],
          "scatter": [
           {
            "fillpattern": {
             "fillmode": "overlay",
             "size": 10,
             "solidity": 0.2
            },
            "type": "scatter"
           }
          ],
          "scatter3d": [
           {
            "line": {
             "colorbar": {
              "outlinewidth": 0,
              "ticks": ""
             }
            },
            "marker": {
             "colorbar": {
              "outlinewidth": 0,
              "ticks": ""
             }
            },
            "type": "scatter3d"
           }
          ],
          "scattercarpet": [
           {
            "marker": {
             "colorbar": {
              "outlinewidth": 0,
              "ticks": ""
             }
            },
            "type": "scattercarpet"
           }
          ],
          "scattergeo": [
           {
            "marker": {
             "colorbar": {
              "outlinewidth": 0,
              "ticks": ""
             }
            },
            "type": "scattergeo"
           }
          ],
          "scattergl": [
           {
            "marker": {
             "colorbar": {
              "outlinewidth": 0,
              "ticks": ""
             }
            },
            "type": "scattergl"
           }
          ],
          "scattermapbox": [
           {
            "marker": {
             "colorbar": {
              "outlinewidth": 0,
              "ticks": ""
             }
            },
            "type": "scattermapbox"
           }
          ],
          "scatterpolar": [
           {
            "marker": {
             "colorbar": {
              "outlinewidth": 0,
              "ticks": ""
             }
            },
            "type": "scatterpolar"
           }
          ],
          "scatterpolargl": [
           {
            "marker": {
             "colorbar": {
              "outlinewidth": 0,
              "ticks": ""
             }
            },
            "type": "scatterpolargl"
           }
          ],
          "scatterternary": [
           {
            "marker": {
             "colorbar": {
              "outlinewidth": 0,
              "ticks": ""
             }
            },
            "type": "scatterternary"
           }
          ],
          "surface": [
           {
            "colorbar": {
             "outlinewidth": 0,
             "ticks": ""
            },
            "colorscale": [
             [
              0,
              "#0d0887"
             ],
             [
              0.1111111111111111,
              "#46039f"
             ],
             [
              0.2222222222222222,
              "#7201a8"
             ],
             [
              0.3333333333333333,
              "#9c179e"
             ],
             [
              0.4444444444444444,
              "#bd3786"
             ],
             [
              0.5555555555555556,
              "#d8576b"
             ],
             [
              0.6666666666666666,
              "#ed7953"
             ],
             [
              0.7777777777777778,
              "#fb9f3a"
             ],
             [
              0.8888888888888888,
              "#fdca26"
             ],
             [
              1,
              "#f0f921"
             ]
            ],
            "type": "surface"
           }
          ],
          "table": [
           {
            "cells": {
             "fill": {
              "color": "#EBF0F8"
             },
             "line": {
              "color": "white"
             }
            },
            "header": {
             "fill": {
              "color": "#C8D4E3"
             },
             "line": {
              "color": "white"
             }
            },
            "type": "table"
           }
          ]
         },
         "layout": {
          "annotationdefaults": {
           "arrowcolor": "#2a3f5f",
           "arrowhead": 0,
           "arrowwidth": 1
          },
          "autotypenumbers": "strict",
          "coloraxis": {
           "colorbar": {
            "outlinewidth": 0,
            "ticks": ""
           }
          },
          "colorscale": {
           "diverging": [
            [
             0,
             "#8e0152"
            ],
            [
             0.1,
             "#c51b7d"
            ],
            [
             0.2,
             "#de77ae"
            ],
            [
             0.3,
             "#f1b6da"
            ],
            [
             0.4,
             "#fde0ef"
            ],
            [
             0.5,
             "#f7f7f7"
            ],
            [
             0.6,
             "#e6f5d0"
            ],
            [
             0.7,
             "#b8e186"
            ],
            [
             0.8,
             "#7fbc41"
            ],
            [
             0.9,
             "#4d9221"
            ],
            [
             1,
             "#276419"
            ]
           ],
           "sequential": [
            [
             0,
             "#0d0887"
            ],
            [
             0.1111111111111111,
             "#46039f"
            ],
            [
             0.2222222222222222,
             "#7201a8"
            ],
            [
             0.3333333333333333,
             "#9c179e"
            ],
            [
             0.4444444444444444,
             "#bd3786"
            ],
            [
             0.5555555555555556,
             "#d8576b"
            ],
            [
             0.6666666666666666,
             "#ed7953"
            ],
            [
             0.7777777777777778,
             "#fb9f3a"
            ],
            [
             0.8888888888888888,
             "#fdca26"
            ],
            [
             1,
             "#f0f921"
            ]
           ],
           "sequentialminus": [
            [
             0,
             "#0d0887"
            ],
            [
             0.1111111111111111,
             "#46039f"
            ],
            [
             0.2222222222222222,
             "#7201a8"
            ],
            [
             0.3333333333333333,
             "#9c179e"
            ],
            [
             0.4444444444444444,
             "#bd3786"
            ],
            [
             0.5555555555555556,
             "#d8576b"
            ],
            [
             0.6666666666666666,
             "#ed7953"
            ],
            [
             0.7777777777777778,
             "#fb9f3a"
            ],
            [
             0.8888888888888888,
             "#fdca26"
            ],
            [
             1,
             "#f0f921"
            ]
           ]
          },
          "colorway": [
           "#636efa",
           "#EF553B",
           "#00cc96",
           "#ab63fa",
           "#FFA15A",
           "#19d3f3",
           "#FF6692",
           "#B6E880",
           "#FF97FF",
           "#FECB52"
          ],
          "font": {
           "color": "#2a3f5f"
          },
          "geo": {
           "bgcolor": "white",
           "lakecolor": "white",
           "landcolor": "#E5ECF6",
           "showlakes": true,
           "showland": true,
           "subunitcolor": "white"
          },
          "hoverlabel": {
           "align": "left"
          },
          "hovermode": "closest",
          "mapbox": {
           "style": "light"
          },
          "paper_bgcolor": "white",
          "plot_bgcolor": "#E5ECF6",
          "polar": {
           "angularaxis": {
            "gridcolor": "white",
            "linecolor": "white",
            "ticks": ""
           },
           "bgcolor": "#E5ECF6",
           "radialaxis": {
            "gridcolor": "white",
            "linecolor": "white",
            "ticks": ""
           }
          },
          "scene": {
           "xaxis": {
            "backgroundcolor": "#E5ECF6",
            "gridcolor": "white",
            "gridwidth": 2,
            "linecolor": "white",
            "showbackground": true,
            "ticks": "",
            "zerolinecolor": "white"
           },
           "yaxis": {
            "backgroundcolor": "#E5ECF6",
            "gridcolor": "white",
            "gridwidth": 2,
            "linecolor": "white",
            "showbackground": true,
            "ticks": "",
            "zerolinecolor": "white"
           },
           "zaxis": {
            "backgroundcolor": "#E5ECF6",
            "gridcolor": "white",
            "gridwidth": 2,
            "linecolor": "white",
            "showbackground": true,
            "ticks": "",
            "zerolinecolor": "white"
           }
          },
          "shapedefaults": {
           "line": {
            "color": "#2a3f5f"
           }
          },
          "ternary": {
           "aaxis": {
            "gridcolor": "white",
            "linecolor": "white",
            "ticks": ""
           },
           "baxis": {
            "gridcolor": "white",
            "linecolor": "white",
            "ticks": ""
           },
           "bgcolor": "#E5ECF6",
           "caxis": {
            "gridcolor": "white",
            "linecolor": "white",
            "ticks": ""
           }
          },
          "title": {
           "x": 0.05
          },
          "xaxis": {
           "automargin": true,
           "gridcolor": "white",
           "linecolor": "white",
           "ticks": "",
           "title": {
            "standoff": 15
           },
           "zerolinecolor": "white",
           "zerolinewidth": 2
          },
          "yaxis": {
           "automargin": true,
           "gridcolor": "white",
           "linecolor": "white",
           "ticks": "",
           "title": {
            "standoff": 15
           },
           "zerolinecolor": "white",
           "zerolinewidth": 2
          }
         }
        },
        "title": {
         "text": "<b>Sankey Plot for LrgInScale<b><br>Instruments whose indicator matches : <b>81.3%<b> (15,311)<br>Instruments whose indicator changes : <b>18.7%<b> (3,511)<br>Total number of instruments: 18,822",
         "y": 0.98
        },
        "width": 700,
        "xaxis": {
         "showgrid": false,
         "visible": false,
         "zeroline": false
        },
        "yaxis": {
         "showgrid": false,
         "visible": false,
         "zeroline": false
        }
       }
      }
     },
     "metadata": {},
     "output_type": "display_data"
    },
    {
     "name": "stdout",
     "output_type": "stream",
     "text": [
      "Display Sankey plot for: Lqdty\n"
     ]
    },
    {
     "data": {
      "application/vnd.plotly.v1+json": {
       "config": {
        "plotlyServerURL": "https://plot.ly"
       },
       "data": [
        {
         "link": {
          "color": [
           "rgba(228, 26, 28, 0.3)",
           "rgba(228, 26, 28, 0.3)",
           "rgba(55, 126, 184, 0.3)",
           "rgba(55, 126, 184, 0.3)"
          ],
          "label": [
           17489,
           137,
           155,
           1041
          ],
          "source": [
           2,
           3,
           2,
           3
          ],
          "target": [
           0,
           0,
           1,
           1
          ],
          "value": [
           17489,
           137,
           155,
           1041
          ]
         },
         "node": {
          "color": [
           "rgb(228,26,28)",
           "rgb(55,126,184)",
           "rgb(228,26,28)",
           "rgb(55,126,184)"
          ],
          "label": [
           "false",
           "true",
           "false",
           "true"
          ],
          "line": {
           "color": "black",
           "width": 0.5
          },
          "pad": 15,
          "thickness": 20
         },
         "type": "sankey"
        }
       ],
       "layout": {
        "annotations": [
         {
          "align": "center",
          "font": {
           "size": 16
          },
          "showarrow": false,
          "text": "<b>Year 2022<b>",
          "x": 0,
          "xref": "x",
          "y": 1.05,
          "yref": "paper"
         },
         {
          "align": "center",
          "font": {
           "size": 16
          },
          "showarrow": false,
          "text": "<b>Year 2023<b>",
          "x": 1,
          "xref": "x",
          "y": 1.05,
          "yref": "paper"
         }
        ],
        "font": {
         "size": 10
        },
        "height": 700,
        "plot_bgcolor": "white",
        "template": {
         "data": {
          "bar": [
           {
            "error_x": {
             "color": "#2a3f5f"
            },
            "error_y": {
             "color": "#2a3f5f"
            },
            "marker": {
             "line": {
              "color": "#E5ECF6",
              "width": 0.5
             },
             "pattern": {
              "fillmode": "overlay",
              "size": 10,
              "solidity": 0.2
             }
            },
            "type": "bar"
           }
          ],
          "barpolar": [
           {
            "marker": {
             "line": {
              "color": "#E5ECF6",
              "width": 0.5
             },
             "pattern": {
              "fillmode": "overlay",
              "size": 10,
              "solidity": 0.2
             }
            },
            "type": "barpolar"
           }
          ],
          "carpet": [
           {
            "aaxis": {
             "endlinecolor": "#2a3f5f",
             "gridcolor": "white",
             "linecolor": "white",
             "minorgridcolor": "white",
             "startlinecolor": "#2a3f5f"
            },
            "baxis": {
             "endlinecolor": "#2a3f5f",
             "gridcolor": "white",
             "linecolor": "white",
             "minorgridcolor": "white",
             "startlinecolor": "#2a3f5f"
            },
            "type": "carpet"
           }
          ],
          "choropleth": [
           {
            "colorbar": {
             "outlinewidth": 0,
             "ticks": ""
            },
            "type": "choropleth"
           }
          ],
          "contour": [
           {
            "colorbar": {
             "outlinewidth": 0,
             "ticks": ""
            },
            "colorscale": [
             [
              0,
              "#0d0887"
             ],
             [
              0.1111111111111111,
              "#46039f"
             ],
             [
              0.2222222222222222,
              "#7201a8"
             ],
             [
              0.3333333333333333,
              "#9c179e"
             ],
             [
              0.4444444444444444,
              "#bd3786"
             ],
             [
              0.5555555555555556,
              "#d8576b"
             ],
             [
              0.6666666666666666,
              "#ed7953"
             ],
             [
              0.7777777777777778,
              "#fb9f3a"
             ],
             [
              0.8888888888888888,
              "#fdca26"
             ],
             [
              1,
              "#f0f921"
             ]
            ],
            "type": "contour"
           }
          ],
          "contourcarpet": [
           {
            "colorbar": {
             "outlinewidth": 0,
             "ticks": ""
            },
            "type": "contourcarpet"
           }
          ],
          "heatmap": [
           {
            "colorbar": {
             "outlinewidth": 0,
             "ticks": ""
            },
            "colorscale": [
             [
              0,
              "#0d0887"
             ],
             [
              0.1111111111111111,
              "#46039f"
             ],
             [
              0.2222222222222222,
              "#7201a8"
             ],
             [
              0.3333333333333333,
              "#9c179e"
             ],
             [
              0.4444444444444444,
              "#bd3786"
             ],
             [
              0.5555555555555556,
              "#d8576b"
             ],
             [
              0.6666666666666666,
              "#ed7953"
             ],
             [
              0.7777777777777778,
              "#fb9f3a"
             ],
             [
              0.8888888888888888,
              "#fdca26"
             ],
             [
              1,
              "#f0f921"
             ]
            ],
            "type": "heatmap"
           }
          ],
          "heatmapgl": [
           {
            "colorbar": {
             "outlinewidth": 0,
             "ticks": ""
            },
            "colorscale": [
             [
              0,
              "#0d0887"
             ],
             [
              0.1111111111111111,
              "#46039f"
             ],
             [
              0.2222222222222222,
              "#7201a8"
             ],
             [
              0.3333333333333333,
              "#9c179e"
             ],
             [
              0.4444444444444444,
              "#bd3786"
             ],
             [
              0.5555555555555556,
              "#d8576b"
             ],
             [
              0.6666666666666666,
              "#ed7953"
             ],
             [
              0.7777777777777778,
              "#fb9f3a"
             ],
             [
              0.8888888888888888,
              "#fdca26"
             ],
             [
              1,
              "#f0f921"
             ]
            ],
            "type": "heatmapgl"
           }
          ],
          "histogram": [
           {
            "marker": {
             "pattern": {
              "fillmode": "overlay",
              "size": 10,
              "solidity": 0.2
             }
            },
            "type": "histogram"
           }
          ],
          "histogram2d": [
           {
            "colorbar": {
             "outlinewidth": 0,
             "ticks": ""
            },
            "colorscale": [
             [
              0,
              "#0d0887"
             ],
             [
              0.1111111111111111,
              "#46039f"
             ],
             [
              0.2222222222222222,
              "#7201a8"
             ],
             [
              0.3333333333333333,
              "#9c179e"
             ],
             [
              0.4444444444444444,
              "#bd3786"
             ],
             [
              0.5555555555555556,
              "#d8576b"
             ],
             [
              0.6666666666666666,
              "#ed7953"
             ],
             [
              0.7777777777777778,
              "#fb9f3a"
             ],
             [
              0.8888888888888888,
              "#fdca26"
             ],
             [
              1,
              "#f0f921"
             ]
            ],
            "type": "histogram2d"
           }
          ],
          "histogram2dcontour": [
           {
            "colorbar": {
             "outlinewidth": 0,
             "ticks": ""
            },
            "colorscale": [
             [
              0,
              "#0d0887"
             ],
             [
              0.1111111111111111,
              "#46039f"
             ],
             [
              0.2222222222222222,
              "#7201a8"
             ],
             [
              0.3333333333333333,
              "#9c179e"
             ],
             [
              0.4444444444444444,
              "#bd3786"
             ],
             [
              0.5555555555555556,
              "#d8576b"
             ],
             [
              0.6666666666666666,
              "#ed7953"
             ],
             [
              0.7777777777777778,
              "#fb9f3a"
             ],
             [
              0.8888888888888888,
              "#fdca26"
             ],
             [
              1,
              "#f0f921"
             ]
            ],
            "type": "histogram2dcontour"
           }
          ],
          "mesh3d": [
           {
            "colorbar": {
             "outlinewidth": 0,
             "ticks": ""
            },
            "type": "mesh3d"
           }
          ],
          "parcoords": [
           {
            "line": {
             "colorbar": {
              "outlinewidth": 0,
              "ticks": ""
             }
            },
            "type": "parcoords"
           }
          ],
          "pie": [
           {
            "automargin": true,
            "type": "pie"
           }
          ],
          "scatter": [
           {
            "fillpattern": {
             "fillmode": "overlay",
             "size": 10,
             "solidity": 0.2
            },
            "type": "scatter"
           }
          ],
          "scatter3d": [
           {
            "line": {
             "colorbar": {
              "outlinewidth": 0,
              "ticks": ""
             }
            },
            "marker": {
             "colorbar": {
              "outlinewidth": 0,
              "ticks": ""
             }
            },
            "type": "scatter3d"
           }
          ],
          "scattercarpet": [
           {
            "marker": {
             "colorbar": {
              "outlinewidth": 0,
              "ticks": ""
             }
            },
            "type": "scattercarpet"
           }
          ],
          "scattergeo": [
           {
            "marker": {
             "colorbar": {
              "outlinewidth": 0,
              "ticks": ""
             }
            },
            "type": "scattergeo"
           }
          ],
          "scattergl": [
           {
            "marker": {
             "colorbar": {
              "outlinewidth": 0,
              "ticks": ""
             }
            },
            "type": "scattergl"
           }
          ],
          "scattermapbox": [
           {
            "marker": {
             "colorbar": {
              "outlinewidth": 0,
              "ticks": ""
             }
            },
            "type": "scattermapbox"
           }
          ],
          "scatterpolar": [
           {
            "marker": {
             "colorbar": {
              "outlinewidth": 0,
              "ticks": ""
             }
            },
            "type": "scatterpolar"
           }
          ],
          "scatterpolargl": [
           {
            "marker": {
             "colorbar": {
              "outlinewidth": 0,
              "ticks": ""
             }
            },
            "type": "scatterpolargl"
           }
          ],
          "scatterternary": [
           {
            "marker": {
             "colorbar": {
              "outlinewidth": 0,
              "ticks": ""
             }
            },
            "type": "scatterternary"
           }
          ],
          "surface": [
           {
            "colorbar": {
             "outlinewidth": 0,
             "ticks": ""
            },
            "colorscale": [
             [
              0,
              "#0d0887"
             ],
             [
              0.1111111111111111,
              "#46039f"
             ],
             [
              0.2222222222222222,
              "#7201a8"
             ],
             [
              0.3333333333333333,
              "#9c179e"
             ],
             [
              0.4444444444444444,
              "#bd3786"
             ],
             [
              0.5555555555555556,
              "#d8576b"
             ],
             [
              0.6666666666666666,
              "#ed7953"
             ],
             [
              0.7777777777777778,
              "#fb9f3a"
             ],
             [
              0.8888888888888888,
              "#fdca26"
             ],
             [
              1,
              "#f0f921"
             ]
            ],
            "type": "surface"
           }
          ],
          "table": [
           {
            "cells": {
             "fill": {
              "color": "#EBF0F8"
             },
             "line": {
              "color": "white"
             }
            },
            "header": {
             "fill": {
              "color": "#C8D4E3"
             },
             "line": {
              "color": "white"
             }
            },
            "type": "table"
           }
          ]
         },
         "layout": {
          "annotationdefaults": {
           "arrowcolor": "#2a3f5f",
           "arrowhead": 0,
           "arrowwidth": 1
          },
          "autotypenumbers": "strict",
          "coloraxis": {
           "colorbar": {
            "outlinewidth": 0,
            "ticks": ""
           }
          },
          "colorscale": {
           "diverging": [
            [
             0,
             "#8e0152"
            ],
            [
             0.1,
             "#c51b7d"
            ],
            [
             0.2,
             "#de77ae"
            ],
            [
             0.3,
             "#f1b6da"
            ],
            [
             0.4,
             "#fde0ef"
            ],
            [
             0.5,
             "#f7f7f7"
            ],
            [
             0.6,
             "#e6f5d0"
            ],
            [
             0.7,
             "#b8e186"
            ],
            [
             0.8,
             "#7fbc41"
            ],
            [
             0.9,
             "#4d9221"
            ],
            [
             1,
             "#276419"
            ]
           ],
           "sequential": [
            [
             0,
             "#0d0887"
            ],
            [
             0.1111111111111111,
             "#46039f"
            ],
            [
             0.2222222222222222,
             "#7201a8"
            ],
            [
             0.3333333333333333,
             "#9c179e"
            ],
            [
             0.4444444444444444,
             "#bd3786"
            ],
            [
             0.5555555555555556,
             "#d8576b"
            ],
            [
             0.6666666666666666,
             "#ed7953"
            ],
            [
             0.7777777777777778,
             "#fb9f3a"
            ],
            [
             0.8888888888888888,
             "#fdca26"
            ],
            [
             1,
             "#f0f921"
            ]
           ],
           "sequentialminus": [
            [
             0,
             "#0d0887"
            ],
            [
             0.1111111111111111,
             "#46039f"
            ],
            [
             0.2222222222222222,
             "#7201a8"
            ],
            [
             0.3333333333333333,
             "#9c179e"
            ],
            [
             0.4444444444444444,
             "#bd3786"
            ],
            [
             0.5555555555555556,
             "#d8576b"
            ],
            [
             0.6666666666666666,
             "#ed7953"
            ],
            [
             0.7777777777777778,
             "#fb9f3a"
            ],
            [
             0.8888888888888888,
             "#fdca26"
            ],
            [
             1,
             "#f0f921"
            ]
           ]
          },
          "colorway": [
           "#636efa",
           "#EF553B",
           "#00cc96",
           "#ab63fa",
           "#FFA15A",
           "#19d3f3",
           "#FF6692",
           "#B6E880",
           "#FF97FF",
           "#FECB52"
          ],
          "font": {
           "color": "#2a3f5f"
          },
          "geo": {
           "bgcolor": "white",
           "lakecolor": "white",
           "landcolor": "#E5ECF6",
           "showlakes": true,
           "showland": true,
           "subunitcolor": "white"
          },
          "hoverlabel": {
           "align": "left"
          },
          "hovermode": "closest",
          "mapbox": {
           "style": "light"
          },
          "paper_bgcolor": "white",
          "plot_bgcolor": "#E5ECF6",
          "polar": {
           "angularaxis": {
            "gridcolor": "white",
            "linecolor": "white",
            "ticks": ""
           },
           "bgcolor": "#E5ECF6",
           "radialaxis": {
            "gridcolor": "white",
            "linecolor": "white",
            "ticks": ""
           }
          },
          "scene": {
           "xaxis": {
            "backgroundcolor": "#E5ECF6",
            "gridcolor": "white",
            "gridwidth": 2,
            "linecolor": "white",
            "showbackground": true,
            "ticks": "",
            "zerolinecolor": "white"
           },
           "yaxis": {
            "backgroundcolor": "#E5ECF6",
            "gridcolor": "white",
            "gridwidth": 2,
            "linecolor": "white",
            "showbackground": true,
            "ticks": "",
            "zerolinecolor": "white"
           },
           "zaxis": {
            "backgroundcolor": "#E5ECF6",
            "gridcolor": "white",
            "gridwidth": 2,
            "linecolor": "white",
            "showbackground": true,
            "ticks": "",
            "zerolinecolor": "white"
           }
          },
          "shapedefaults": {
           "line": {
            "color": "#2a3f5f"
           }
          },
          "ternary": {
           "aaxis": {
            "gridcolor": "white",
            "linecolor": "white",
            "ticks": ""
           },
           "baxis": {
            "gridcolor": "white",
            "linecolor": "white",
            "ticks": ""
           },
           "bgcolor": "#E5ECF6",
           "caxis": {
            "gridcolor": "white",
            "linecolor": "white",
            "ticks": ""
           }
          },
          "title": {
           "x": 0.05
          },
          "xaxis": {
           "automargin": true,
           "gridcolor": "white",
           "linecolor": "white",
           "ticks": "",
           "title": {
            "standoff": 15
           },
           "zerolinecolor": "white",
           "zerolinewidth": 2
          },
          "yaxis": {
           "automargin": true,
           "gridcolor": "white",
           "linecolor": "white",
           "ticks": "",
           "title": {
            "standoff": 15
           },
           "zerolinecolor": "white",
           "zerolinewidth": 2
          }
         }
        },
        "title": {
         "text": "<b>Sankey Plot for Lqdty<b><br>Instruments whose indicator matches : <b>98.4%<b> (18,530)<br>Instruments whose indicator changes : <b>1.6%<b> (292)<br>Total number of instruments: 18,822",
         "y": 0.98
        },
        "width": 700,
        "xaxis": {
         "showgrid": false,
         "visible": false,
         "zeroline": false
        },
        "yaxis": {
         "showgrid": false,
         "visible": false,
         "zeroline": false
        }
       }
      }
     },
     "metadata": {},
     "output_type": "display_data"
    }
   ],
   "source": [
    "for key in sankey_plots:\n",
    "    print(f\"Display Sankey plot for: {key}\")\n",
    "    sankey_plots[key].show()"
   ]
  },
  {
   "cell_type": "code",
   "execution_count": null,
   "metadata": {},
   "outputs": [],
   "source": []
  }
 ],
 "metadata": {
  "application/vnd.databricks.v1+notebook": {
   "computePreferences": null,
   "dashboards": [],
   "environmentMetadata": {
    "base_environment": "",
    "environment_version": "2"
   },
   "language": "python",
   "notebookMetadata": {
    "pythonIndentUnit": 4
   },
   "notebookName": "Untitled Notebook 2025-03-13 09_56_35",
   "widgets": {}
  },
  "kernelspec": {
   "display_name": "Python 3",
   "language": "python",
   "name": "python3"
  },
  "language_info": {
   "codemirror_mode": {
    "name": "ipython",
    "version": 3
   },
   "file_extension": ".py",
   "mimetype": "text/x-python",
   "name": "python",
   "nbconvert_exporter": "python",
   "pygments_lexer": "ipython3",
   "version": "3.10.3"
  }
 },
 "nbformat": 4,
 "nbformat_minor": 0
}
